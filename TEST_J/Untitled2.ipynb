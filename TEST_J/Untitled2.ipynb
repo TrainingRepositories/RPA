{
 "cells": [
  {
   "cell_type": "code",
   "execution_count": null,
   "id": "a475e07a-261d-4a1c-ac6a-3aad4d5b8303",
   "metadata": {},
   "outputs": [],
   "source": []
  },
  {
   "cell_type": "code",
   "execution_count": 8,
   "id": "95b9d96e-668d-4668-9cc1-ecdd36497628",
   "metadata": {},
   "outputs": [],
   "source": [
    "def fun1():\n",
    "    \"\"\"\n",
    "    This is function  do 12345 -> String\n",
    "    \"\"\"\n",
    "    print(\" Hi 1\")"
   ]
  },
  {
   "cell_type": "code",
   "execution_count": null,
   "id": "7d823f58-217b-45d3-9998-99582262bd65",
   "metadata": {},
   "outputs": [],
   "source": []
  },
  {
   "cell_type": "code",
   "execution_count": null,
   "id": "0984f295-055e-429c-89b5-dc51954bab13",
   "metadata": {},
   "outputs": [],
   "source": []
  },
  {
   "cell_type": "code",
   "execution_count": null,
   "id": "efd87269-d9bb-4cfe-a604-b6a046c3b0e3",
   "metadata": {},
   "outputs": [],
   "source": []
  },
  {
   "cell_type": "code",
   "execution_count": null,
   "id": "ded05100-b6ca-4ea4-b885-5903c0d211ce",
   "metadata": {},
   "outputs": [],
   "source": [
    "fun1"
   ]
  },
  {
   "cell_type": "code",
   "execution_count": null,
   "id": "2af08adb-e99c-41dd-bb43-1ff423177f79",
   "metadata": {},
   "outputs": [],
   "source": []
  },
  {
   "cell_type": "code",
   "execution_count": 20,
   "id": "57a10251-c45e-462d-a918-8ebf7568b658",
   "metadata": {},
   "outputs": [
    {
     "ename": "ZeroDivisionError",
     "evalue": "division by zero",
     "output_type": "error",
     "traceback": [
      "\u001b[0;31m---------------------------------------------------------------------------\u001b[0m",
      "\u001b[0;31mZeroDivisionError\u001b[0m                         Traceback (most recent call last)",
      "Cell \u001b[0;32mIn[20], line 1\u001b[0m\n\u001b[0;32m----> 1\u001b[0m \u001b[38;5;241;43m9\u001b[39;49m\u001b[43m \u001b[49m\u001b[38;5;241;43m/\u001b[39;49m\u001b[43m \u001b[49m\u001b[38;5;241;43m0\u001b[39;49m\n",
      "\u001b[0;31mZeroDivisionError\u001b[0m: division by zero"
     ]
    }
   ],
   "source": [
    "9 / 0"
   ]
  },
  {
   "cell_type": "code",
   "execution_count": null,
   "id": "1960ad50-8bc2-4dc7-9de8-fb563e5e81b2",
   "metadata": {},
   "outputs": [],
   "source": []
  },
  {
   "cell_type": "code",
   "execution_count": 17,
   "id": "9b4af61b-3a17-4c0c-803d-e0f5d4ab0084",
   "metadata": {},
   "outputs": [
    {
     "data": {
      "text/plain": [
       "int"
      ]
     },
     "execution_count": 17,
     "metadata": {},
     "output_type": "execute_result"
    }
   ],
   "source": [
    "type(input123)"
   ]
  },
  {
   "cell_type": "code",
   "execution_count": null,
   "id": "66210d16-2d10-48bc-b61f-978536962bfb",
   "metadata": {},
   "outputs": [],
   "source": []
  },
  {
   "cell_type": "code",
   "execution_count": 3,
   "id": "4cd6e051-463f-41ca-b6a2-561b50658eae",
   "metadata": {},
   "outputs": [
    {
     "name": "stdin",
     "output_type": "stream",
     "text": [
      "Enter Name :  Abdulwahab\n"
     ]
    }
   ],
   "source": [
    "name = input(\"Enter Name : \")"
   ]
  },
  {
   "cell_type": "code",
   "execution_count": 6,
   "id": "64f41964-e5f6-407a-a3a0-6e69e6af5c22",
   "metadata": {},
   "outputs": [
    {
     "name": "stdout",
     "output_type": "stream",
     "text": [
      "Help on method raw_input in module ipykernel.kernelbase:\n",
      "\n",
      "raw_input(prompt='') method of ipykernel.ipkernel.IPythonKernel instance\n",
      "    Forward raw_input to frontends\n",
      "    \n",
      "    Raises\n",
      "    ------\n",
      "    StdinNotImplementedError if active frontend doesn't support stdin.\n",
      "\n"
     ]
    }
   ],
   "source": [
    "help(input)"
   ]
  },
  {
   "cell_type": "code",
   "execution_count": null,
   "id": "687f5147-0817-4ec8-942a-05b25c803ecd",
   "metadata": {},
   "outputs": [],
   "source": []
  },
  {
   "cell_type": "code",
   "execution_count": null,
   "id": "5d06f3b8-a07f-4856-9fa0-ec46de841dc7",
   "metadata": {},
   "outputs": [],
   "source": []
  },
  {
   "cell_type": "code",
   "execution_count": 34,
   "id": "7078808c-5799-4b31-8b75-8297a0a414db",
   "metadata": {},
   "outputs": [
    {
     "name": "stdin",
     "output_type": "stream",
     "text": [
      "Enter a number:  0\n"
     ]
    },
    {
     "ename": "ZeroDivisionError",
     "evalue": "division by zero",
     "output_type": "error",
     "traceback": [
      "\u001b[0;31m---------------------------------------------------------------------------\u001b[0m",
      "\u001b[0;31mZeroDivisionError\u001b[0m                         Traceback (most recent call last)",
      "Cell \u001b[0;32mIn[34], line 2\u001b[0m\n\u001b[1;32m      1\u001b[0m x \u001b[38;5;241m=\u001b[39m \u001b[38;5;28mint\u001b[39m(\u001b[38;5;28minput\u001b[39m(\u001b[38;5;124m\"\u001b[39m\u001b[38;5;124mEnter a number: \u001b[39m\u001b[38;5;124m\"\u001b[39m))\n\u001b[0;32m----> 2\u001b[0m result \u001b[38;5;241m=\u001b[39m \u001b[38;5;241;43m10\u001b[39;49m\u001b[43m \u001b[49m\u001b[38;5;241;43m/\u001b[39;49m\u001b[43m \u001b[49m\u001b[43mx\u001b[49m\n\u001b[1;32m      3\u001b[0m \u001b[38;5;28mprint\u001b[39m(\u001b[38;5;124mf\u001b[39m\u001b[38;5;124m\"\u001b[39m\u001b[38;5;124mResult: \u001b[39m\u001b[38;5;132;01m{\u001b[39;00mresult\u001b[38;5;132;01m}\u001b[39;00m\u001b[38;5;124m\"\u001b[39m)\n",
      "\u001b[0;31mZeroDivisionError\u001b[0m: division by zero"
     ]
    }
   ],
   "source": [
    "x = int(input(\"Enter a number: \"))\n",
    "result = 10 / x\n",
    "print(f\"Result: {result}\")"
   ]
  },
  {
   "cell_type": "code",
   "execution_count": null,
   "id": "7e543297-7ffe-4e95-a04c-3ad99ec61bea",
   "metadata": {},
   "outputs": [],
   "source": []
  },
  {
   "cell_type": "code",
   "execution_count": null,
   "id": "620e70bc-967b-4f0d-9c10-6afaa14b448b",
   "metadata": {},
   "outputs": [],
   "source": []
  },
  {
   "cell_type": "code",
   "execution_count": 35,
   "id": "c73f8d37-048a-43c5-8b2e-a9501a56f268",
   "metadata": {},
   "outputs": [],
   "source": [
    "e_details = None"
   ]
  },
  {
   "cell_type": "code",
   "execution_count": 36,
   "id": "eb2062cb-4492-4293-afd6-ff2c500685fa",
   "metadata": {},
   "outputs": [],
   "source": [
    "e_details"
   ]
  },
  {
   "cell_type": "code",
   "execution_count": 47,
   "id": "5725f56f-a78c-4723-9007-ab8c6c10f839",
   "metadata": {},
   "outputs": [
    {
     "name": "stdin",
     "output_type": "stream",
     "text": [
      "Enter a number:  0\n"
     ]
    },
    {
     "name": "stdout",
     "output_type": "stream",
     "text": [
      "the error msg is division by zero\n",
      "An  error from ZeroDivisionError \n"
     ]
    }
   ],
   "source": [
    "try:\n",
    "    x = int(input(\"Enter a number: \"))\n",
    "    result = 10 / x\n",
    "    print(f\"Result: {result}\") \n",
    "except Exception as e:\n",
    "    e_details = e\n",
    "    print(f\"the error msg is {e}\")\n",
    "    print(f\"An  error from ZeroDivisionError \") "
   ]
  },
  {
   "cell_type": "code",
   "execution_count": 65,
   "id": "6a82ca1b-a47a-4467-90ad-f4a4e1292659",
   "metadata": {},
   "outputs": [],
   "source": [
    "import math"
   ]
  },
  {
   "cell_type": "code",
   "execution_count": 71,
   "id": "d3300370-0aa4-45f0-85cf-ad3f58f386e8",
   "metadata": {},
   "outputs": [],
   "source": [
    "import pandas as pd"
   ]
  },
  {
   "cell_type": "code",
   "execution_count": 63,
   "id": "581e928f-45a9-414a-b4fd-8c1a375caec3",
   "metadata": {},
   "outputs": [
    {
     "name": "stdout",
     "output_type": "stream",
     "text": [
      "Untitled.ipynb   Untitled1.ipynb  Untitled2.ipynb  untitled.txt\n"
     ]
    }
   ],
   "source": [
    "import pandas as pd"
   ]
  },
  {
   "cell_type": "code",
   "execution_count": null,
   "id": "22825e43-360c-47a2-bead-525de45d9174",
   "metadata": {},
   "outputs": [],
   "source": []
  },
  {
   "cell_type": "code",
   "execution_count": 72,
   "id": "c29f3940-ba45-4c31-85d9-d3f2aa8df952",
   "metadata": {},
   "outputs": [
    {
     "ename": "ModuleNotFoundError",
     "evalue": "No module named 'FastAPI'",
     "output_type": "error",
     "traceback": [
      "\u001b[0;31m---------------------------------------------------------------------------\u001b[0m",
      "\u001b[0;31mModuleNotFoundError\u001b[0m                       Traceback (most recent call last)",
      "Cell \u001b[0;32mIn[72], line 1\u001b[0m\n\u001b[0;32m----> 1\u001b[0m \u001b[38;5;28;01mimport\u001b[39;00m \u001b[38;5;21;01mFastAPI\u001b[39;00m\n",
      "\u001b[0;31mModuleNotFoundError\u001b[0m: No module named 'FastAPI'"
     ]
    }
   ],
   "source": [
    "import FastAPI"
   ]
  },
  {
   "cell_type": "code",
   "execution_count": null,
   "id": "31c82cad-b243-4c8d-b8ea-8c67cc72c6eb",
   "metadata": {},
   "outputs": [],
   "source": []
  },
  {
   "cell_type": "code",
   "execution_count": null,
   "id": "99a0ead9-7b89-4562-ab8f-0707419c5f99",
   "metadata": {},
   "outputs": [],
   "source": []
  },
  {
   "cell_type": "code",
   "execution_count": null,
   "id": "853e509e-f04a-44c3-aec5-6e4f3c0fbab1",
   "metadata": {},
   "outputs": [],
   "source": []
  },
  {
   "cell_type": "code",
   "execution_count": 73,
   "id": "a8270202-dfff-46ee-949c-ae0707803585",
   "metadata": {},
   "outputs": [
    {
     "name": "stdout",
     "output_type": "stream",
     "text": [
      "Requirement already satisfied: FastAPI in /Users/abdulwahabmac/Desktop/MyFiles/Projects/Training/Elm/RPA 2/RPA/.env/lib/python3.10/site-packages (0.115.4)\n",
      "Requirement already satisfied: starlette<0.42.0,>=0.40.0 in /Users/abdulwahabmac/Desktop/MyFiles/Projects/Training/Elm/RPA 2/RPA/.env/lib/python3.10/site-packages (from FastAPI) (0.41.2)\n",
      "Requirement already satisfied: pydantic!=1.8,!=1.8.1,!=2.0.0,!=2.0.1,!=2.1.0,<3.0.0,>=1.7.4 in /Users/abdulwahabmac/Desktop/MyFiles/Projects/Training/Elm/RPA 2/RPA/.env/lib/python3.10/site-packages (from FastAPI) (2.9.2)\n",
      "Requirement already satisfied: typing-extensions>=4.8.0 in /Users/abdulwahabmac/Desktop/MyFiles/Projects/Training/Elm/RPA 2/RPA/.env/lib/python3.10/site-packages (from FastAPI) (4.12.2)\n",
      "Requirement already satisfied: annotated-types>=0.6.0 in /Users/abdulwahabmac/Desktop/MyFiles/Projects/Training/Elm/RPA 2/RPA/.env/lib/python3.10/site-packages (from pydantic!=1.8,!=1.8.1,!=2.0.0,!=2.0.1,!=2.1.0,<3.0.0,>=1.7.4->FastAPI) (0.7.0)\n",
      "Requirement already satisfied: pydantic-core==2.23.4 in /Users/abdulwahabmac/Desktop/MyFiles/Projects/Training/Elm/RPA 2/RPA/.env/lib/python3.10/site-packages (from pydantic!=1.8,!=1.8.1,!=2.0.0,!=2.0.1,!=2.1.0,<3.0.0,>=1.7.4->FastAPI) (2.23.4)\n",
      "Requirement already satisfied: anyio<5,>=3.4.0 in /Users/abdulwahabmac/Desktop/MyFiles/Projects/Training/Elm/RPA 2/RPA/.env/lib/python3.10/site-packages (from starlette<0.42.0,>=0.40.0->FastAPI) (4.6.2.post1)\n",
      "Requirement already satisfied: idna>=2.8 in /Users/abdulwahabmac/Desktop/MyFiles/Projects/Training/Elm/RPA 2/RPA/.env/lib/python3.10/site-packages (from anyio<5,>=3.4.0->starlette<0.42.0,>=0.40.0->FastAPI) (3.10)\n",
      "Requirement already satisfied: sniffio>=1.1 in /Users/abdulwahabmac/Desktop/MyFiles/Projects/Training/Elm/RPA 2/RPA/.env/lib/python3.10/site-packages (from anyio<5,>=3.4.0->starlette<0.42.0,>=0.40.0->FastAPI) (1.3.1)\n",
      "Requirement already satisfied: exceptiongroup>=1.0.2 in /Users/abdulwahabmac/Desktop/MyFiles/Projects/Training/Elm/RPA 2/RPA/.env/lib/python3.10/site-packages (from anyio<5,>=3.4.0->starlette<0.42.0,>=0.40.0->FastAPI) (1.2.2)\n",
      "\n",
      "\u001b[1m[\u001b[0m\u001b[34;49mnotice\u001b[0m\u001b[1;39;49m]\u001b[0m\u001b[39;49m A new release of pip is available: \u001b[0m\u001b[31;49m24.1.2\u001b[0m\u001b[39;49m -> \u001b[0m\u001b[32;49m24.3.1\u001b[0m\n",
      "\u001b[1m[\u001b[0m\u001b[34;49mnotice\u001b[0m\u001b[1;39;49m]\u001b[0m\u001b[39;49m To update, run: \u001b[0m\u001b[32;49mpip install --upgrade pip\u001b[0m\n",
      "Note: you may need to restart the kernel to use updated packages.\n"
     ]
    }
   ],
   "source": [
    "pip install FastAPI"
   ]
  },
  {
   "cell_type": "code",
   "execution_count": null,
   "id": "330750f9-b3f8-4a40-a254-1eefb97b5d18",
   "metadata": {},
   "outputs": [],
   "source": []
  },
  {
   "cell_type": "code",
   "execution_count": 61,
   "id": "ef92b983-407a-4ac8-a1b5-7f2277e8fe77",
   "metadata": {},
   "outputs": [
    {
     "name": "stdout",
     "output_type": "stream",
     "text": [
      "File contents:\n",
      "Hello, World!\n",
      "\n"
     ]
    }
   ],
   "source": [
    "with open(\"untitled.txt\",mode='r') as file:\n",
    "    content = file.read()\n",
    "    print(\"File contents:\")\n",
    "    print(content)\n",
    "\n"
   ]
  },
  {
   "cell_type": "code",
   "execution_count": 42,
   "id": "8ba8f51d-ff5e-43c3-b42e-9a6ccd07e09d",
   "metadata": {},
   "outputs": [],
   "source": [
    "# help(e_details)"
   ]
  },
  {
   "cell_type": "code",
   "execution_count": 29,
   "id": "a835ab7a-f64d-4ad4-be6f-ea863f03c407",
   "metadata": {},
   "outputs": [],
   "source": [
    "y = \"456\""
   ]
  },
  {
   "cell_type": "code",
   "execution_count": 31,
   "id": "349e7e7b-f0a9-46b8-aacd-d184112327a3",
   "metadata": {},
   "outputs": [
    {
     "name": "stdout",
     "output_type": "stream",
     "text": [
      "hi 123456 im 987\n"
     ]
    }
   ],
   "source": [
    "print(\"hi 123\" + y + \" im 987\")"
   ]
  },
  {
   "cell_type": "code",
   "execution_count": 32,
   "id": "09cdc7e4-ed40-45cb-9de9-339f7f3e0a12",
   "metadata": {},
   "outputs": [
    {
     "name": "stdout",
     "output_type": "stream",
     "text": [
      "hi 123 456 im 987\n"
     ]
    }
   ],
   "source": [
    "print(f\"hi 123 {y} im 987\")"
   ]
  },
  {
   "cell_type": "code",
   "execution_count": null,
   "id": "3e8a129e-8702-4fda-bed8-5537cf2a3fa7",
   "metadata": {},
   "outputs": [],
   "source": []
  },
  {
   "cell_type": "code",
   "execution_count": null,
   "id": "22212066-ae93-4248-a934-de88069ca165",
   "metadata": {},
   "outputs": [],
   "source": []
  },
  {
   "cell_type": "code",
   "execution_count": null,
   "id": "3edeaab4-146a-4e67-83d3-85d7ef9498b4",
   "metadata": {},
   "outputs": [],
   "source": []
  }
 ],
 "metadata": {
  "kernelspec": {
   "display_name": "Python 3 (ipykernel)",
   "language": "python",
   "name": "python3"
  },
  "language_info": {
   "codemirror_mode": {
    "name": "ipython",
    "version": 3
   },
   "file_extension": ".py",
   "mimetype": "text/x-python",
   "name": "python",
   "nbconvert_exporter": "python",
   "pygments_lexer": "ipython3",
   "version": "3.10.14"
  }
 },
 "nbformat": 4,
 "nbformat_minor": 5
}
