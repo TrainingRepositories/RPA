{
 "cells": [
  {
   "cell_type": "code",
   "execution_count": null,
   "id": "a6a48e4b-99ee-43a2-b0a1-c9aa5e9de585",
   "metadata": {},
   "outputs": [],
   "source": []
  },
  {
   "cell_type": "code",
   "execution_count": null,
   "id": "ebc88e9a-ccf0-4d21-9693-0dd9345765d4",
   "metadata": {},
   "outputs": [],
   "source": []
  },
  {
   "cell_type": "markdown",
   "id": "ee4447a6-67dd-4b8e-98e5-fb7cbe145d72",
   "metadata": {},
   "source": [
    "# Data Types"
   ]
  },
  {
   "cell_type": "markdown",
   "id": "08e3e8d5-6066-4c8c-8d45-0dce66129c68",
   "metadata": {},
   "source": [
    "### Sequence #\n"
   ]
  },
  {
   "cell_type": "code",
   "execution_count": 23,
   "id": "4d1727c0-05b6-42bb-a641-6a4a98af3854",
   "metadata": {},
   "outputs": [
    {
     "name": "stdout",
     "output_type": "stream",
     "text": [
      "l\n",
      "o , word\n",
      "\n",
      " String methodes: \n",
      " \n",
      " hello , word\n",
      " HELLO , WORD\n",
      "[' Hello ', ' word']\n",
      "Hello , word\n",
      "RPA , word\n",
      "  H e l l o   ,   w o r d\n"
     ]
    }
   ],
   "source": [
    "# String: what comes betweeen quotes will be a string '' or \"\" or\n",
    "# ''' ''' between thee Quotes considers new lines \n",
    "\n",
    "text = ' Hello , word'\n",
    "\n",
    "#acssess characters \n",
    "\n",
    "print(text[3])\n",
    "print(text[5:15])\n",
    "\n",
    "print(\"\\n String methodes: \\n \")\n",
    "\n",
    "print(text.lower())\n",
    "print(text.upper())\n",
    "print(text.split(\",\"))\n",
    "print(text.strip()) #removing white space at begaining or end of striing\n",
    "print(text.replace(\" Hello\", \"RPA\")) # the old word must be the same \n",
    "print(\" \".join(text)) # for the join the strings must be in list \n",
    "\n",
    "\n"
   ]
  },
  {
   "cell_type": "markdown",
   "id": "4e46b922-9631-4ed7-8601-8c667d6dc050",
   "metadata": {},
   "source": [
    "### Tuples \n",
    "1.immutable\n"
   ]
  },
  {
   "cell_type": "code",
   "execution_count": 34,
   "id": "3e1e60ed-52d2-4f8f-a6f4-6e7429069eb3",
   "metadata": {},
   "outputs": [
    {
     "name": "stdout",
     "output_type": "stream",
     "text": [
      "2\n",
      "1\n",
      "Inedx 0 : a\n",
      "Inedx 1 : b\n",
      "Inedx 2 : c\n",
      "Inedx 3 : d\n",
      "Inedx 4 : a\n"
     ]
    }
   ],
   "source": [
    "chars = ( \"a\" , \"b\" , \"c\" , \"d\", \"a\" )\n",
    "\n",
    "print(chars.count(\"a\"))\n",
    "\n",
    "print(chars.index(\"b\"))\n",
    "\n",
    "for index, char in enumerate(chars):\n",
    "    print(f\"Inedx {index} : {char}\")"
   ]
  },
  {
   "cell_type": "markdown",
   "id": "6b25803f-9053-4bc2-b610-014ba47e217e",
   "metadata": {},
   "source": [
    "### List "
   ]
  },
  {
   "cell_type": "code",
   "execution_count": 45,
   "id": "2d333cca-8c05-49fc-a45e-a48a93abf63d",
   "metadata": {},
   "outputs": [
    {
     "name": "stdout",
     "output_type": "stream",
     "text": [
      "['ahmed', 'khliad', 'yousef', 'mohsen', 'mohammed']\n",
      "['nader', 'ahmed', 'khliad', 'yousef', 'mohsen', 'mohammed']\n",
      "mohammed\n",
      "['nader', 'ahmed', 'yousef', 'mohsen']\n",
      "['nader', 'ahmed', 'yousef', 'mohsen', 'nawaf', 'naif']\n"
     ]
    }
   ],
   "source": [
    "list1 = [\"ahmed\" , \"khliad\", \"yousef\", \"mohsen\"]\n",
    "\n",
    "list1.append(\"mohammed\") # add element at th end\n",
    "print(list1)\n",
    "list1.insert(0, \"nader\") # add element at index you provide the beganing \n",
    "print(list1)\n",
    "removed = list1.pop() # takes out element you provide index for or last one as default\n",
    "print(removed)\n",
    "list1.remove(\"khliad\")\n",
    "print(list1)\n",
    "list1.extend([\"nawaf\",\"naif\"])\n",
    "print(list1)"
   ]
  },
  {
   "cell_type": "markdown",
   "id": "95c8e6fe-19e9-453d-bce5-ceef6a06f0af",
   "metadata": {},
   "source": [
    "### dictionary"
   ]
  },
  {
   "cell_type": "code",
   "execution_count": 67,
   "id": "fd2cce74-e5fe-4d13-8961-d375df0f5e5d",
   "metadata": {},
   "outputs": [
    {
     "name": "stdout",
     "output_type": "stream",
     "text": [
      "{'name': 'Ahmed', 'phone': '05655666', 'location': 'Riyadh', 'collage': 'KFUPM'}\n",
      "dict_keys(['name', 'phone', 'location', 'collage'])\n",
      "dict_values(['Ahmed', '05655666', 'Riyadh', 'KFUPM'])\n",
      "dict_items([('name', 'Ahmed'), ('phone', '05655666'), ('location', 'Riyadh'), ('collage', 'KFUPM')])\n"
     ]
    },
    {
     "data": {
      "text/plain": [
       "{'name': 'Ahmed',\n",
       " 'phone': '05655666',\n",
       " 'location': 'DAMMAM',\n",
       " 'collage': 'KFUPM'}"
      ]
     },
     "execution_count": 67,
     "metadata": {},
     "output_type": "execute_result"
    }
   ],
   "source": [
    "\n",
    "info = {\"name\": \"Ahmed\", \"phone\":\"05655666\"}\n",
    "\n",
    "info.get(\"name\",\"\")\n",
    "\n",
    "info.update({\"location\":\"Riyadh\", \"collage\":\"KFUPM\"})\n",
    "\n",
    "print(info)\n",
    "\n",
    "print(info.keys())\n",
    "print(info.values())\n",
    "print(info.items())\n",
    "\n",
    "info[\"location\"] = \"DAMMAM\"    #change\n",
    "\n",
    "info\n",
    "\n"
   ]
  },
  {
   "cell_type": "markdown",
   "id": "dd3496d9-cf51-4942-8b99-0baf7d707f4f",
   "metadata": {},
   "source": [
    "### Sets "
   ]
  },
  {
   "cell_type": "code",
   "execution_count": 74,
   "id": "f4ce57ac-66fb-40a4-8e9d-aab438a6e7a6",
   "metadata": {},
   "outputs": [
    {
     "name": "stdout",
     "output_type": "stream",
     "text": [
      "{'uniqe', ',', 'example', 'seprated', 'this', 'sets', 'be', 'for', 'by', 'words', 'to', 'is'}\n",
      "{'uniqe', ',', 'example', 'seprated', 'this', 'sets', 'be', 'cheese', 'for', 'by', 'words', 'to', 'is'}\n",
      "{'uniqe', ',', 'example', 'seprated', 'this', 'sets', 'be', 'cheese', 'for', 'by', 'words', 'yolo', 'to', 'cake', 'is'}\n",
      "{'uniqe', 'example', 'seprated', 'this', 'sets', 'be', 'cheese', 'for', 'by', 'words', 'yolo', 'to', 'cake', 'is'}\n"
     ]
    }
   ],
   "source": [
    "text = \"this is example for sets to be seprated by uniqe words , sets\"\n",
    "\n",
    "set1 = set(text.split())\n",
    "print(set1)\n",
    "\n",
    "## sets methods \n",
    "\n",
    "set1.add(\"cheese\") #add single \n",
    "print(set1)\n",
    "set1.update(['cake','yolo'])\n",
    "print(set1)\n",
    "set1.discard(\",\")\n",
    "print(set1)"
   ]
  },
  {
   "cell_type": "code",
   "execution_count": null,
   "id": "b41de13f-7edc-41d7-b7d6-78fe7fe24ee2",
   "metadata": {},
   "outputs": [],
   "source": []
  },
  {
   "cell_type": "markdown",
   "id": "e911b9b5-b4a1-46a8-b835-e3fbfd42ec8d",
   "metadata": {},
   "source": [
    "### Iterator"
   ]
  },
  {
   "cell_type": "code",
   "execution_count": 91,
   "id": "7189f25f-f516-403c-82fb-054f454a9684",
   "metadata": {},
   "outputs": [
    {
     "name": "stdout",
     "output_type": "stream",
     "text": [
      "id: 1 for jan\n",
      "id: 2 for yousef\n",
      "id: 3 for jem\n",
      "id: 4 for ahmed\n",
      "----------------\n",
      "0 : jan\n",
      "1 : yousef\n",
      "2 : jem\n",
      "3 : ahmed\n",
      "-----------------\n",
      "1\n",
      "4\n",
      "9\n",
      "16\n",
      "25\n"
     ]
    }
   ],
   "source": [
    "# Zip used when you want to join two sets, or any data type and print the togather \n",
    "\n",
    "set2 = {1,2,3,4,5}\n",
    "set3 = {\"ahmed\",\"yousef\",\"jem\",\"jan\"}\n",
    "\n",
    "for id, name in zip(set2,set3):\n",
    "    print(f\"id: {id} for {name}\")\n",
    "print(\"----------------\")\n",
    "# enumerate used when you want to put index with list \n",
    "for index , name in enumerate(set3):\n",
    "    print(f\"{index} : {name}\")\n",
    "print(\"-----------------\")\n",
    "\n",
    "numbers = [1, 2, 3, 4, 5]\n",
    "squared = map(lambda x: x**2, numbers)\n",
    "for num in squared:\n",
    "    print(num)\n"
   ]
  },
  {
   "cell_type": "code",
   "execution_count": null,
   "id": "234623e2-59c2-44b4-add2-dbecf8db5601",
   "metadata": {},
   "outputs": [],
   "source": []
  },
  {
   "cell_type": "markdown",
   "id": "c0df1742-9c9a-42bc-a39c-fc44b4a26fa4",
   "metadata": {},
   "source": [
    "# BuiltIn Functions"
   ]
  },
  {
   "cell_type": "code",
   "execution_count": 93,
   "id": "0e44a99c-a6ff-4e67-b049-66befe4ba3a9",
   "metadata": {},
   "outputs": [
    {
     "name": "stdin",
     "output_type": "stream",
     "text": [
      "Enter your account number:  12345\n",
      "Enter your PIN:  1234\n"
     ]
    },
    {
     "name": "stdout",
     "output_type": "stream",
     "text": [
      "\n",
      "ATM Menu\n",
      "1. Withdraw\n",
      "2. Exit\n"
     ]
    },
    {
     "name": "stdin",
     "output_type": "stream",
     "text": [
      "Enter your choice:  1\n",
      "Enter withdrawal amount:  500\n"
     ]
    },
    {
     "name": "stdout",
     "output_type": "stream",
     "text": [
      "made withdraw with amount 500 SAR and the new balance is 500 \n",
      "\n",
      "ATM Menu\n",
      "1. Withdraw\n",
      "2. Exit\n"
     ]
    },
    {
     "name": "stdin",
     "output_type": "stream",
     "text": [
      "Enter your choice:  1\n",
      "Enter withdrawal amount:  300\n"
     ]
    },
    {
     "name": "stdout",
     "output_type": "stream",
     "text": [
      "made withdraw with amount 300 SAR and the new balance is 200 \n",
      "\n",
      "ATM Menu\n",
      "1. Withdraw\n",
      "2. Exit\n"
     ]
    },
    {
     "name": "stdin",
     "output_type": "stream",
     "text": [
      "Enter your choice:  2\n"
     ]
    },
    {
     "name": "stdout",
     "output_type": "stream",
     "text": [
      "Thank you for using the ATM.\n"
     ]
    }
   ],
   "source": [
    "# function that takes the card id and pin for ATM\n",
    "\n",
    "accounts = {\n",
    "    \"12345\": {\"pin\": \"1234\", \"balance\": 1000}\n",
    "}\n",
    "def authenticate(account_number, PIN):\n",
    "    if account_number in accounts:\n",
    "        if accounts[account_number][\"pin\"] == PIN:\n",
    "            return True\n",
    "    return False\n",
    "def withdraw(account_number, amount):\n",
    "    if accounts[account_number][\"balance\"] >= amount:\n",
    "        accounts[account_number][\"balance\"] -= amount\n",
    "        print(f\"made withdraw with amount {amount} SAR and the new balance is {accounts[account_number]['balance']} \")\n",
    "    else:\n",
    "        print(\"Insufficient balance.\")\n",
    "def main():\n",
    "    account_number = input(\"Enter your account number: \")\n",
    "    pin = input(\"Enter your PIN: \")\n",
    "\n",
    "    if authenticate(account_number, pin):\n",
    "        while True:\n",
    "            print(\"\\nATM Menu\")\n",
    "            print(\"1. Withdraw\")\n",
    "            print(\"2. Exit\")\n",
    "\n",
    "            choice = input(\"Enter your choice: \")\n",
    "\n",
    "            if choice == '1':\n",
    "                amount = int(input(\"Enter withdrawal amount: \"))\n",
    "                withdraw(account_number, amount)\n",
    "            elif choice == '2':\n",
    "                print(\"Thank you for using the ATM.\")\n",
    "                break\n",
    "            else:\n",
    "                print(\"Invalid choice. Please try again.\")\n",
    "    else:\n",
    "        print(\"Invalid account number or PIN.\")\n",
    "\n",
    "if __name__ == \"__main__\":\n",
    "    main()"
   ]
  },
  {
   "cell_type": "code",
   "execution_count": null,
   "id": "934d5ec9-2318-4dc1-aa6b-b6729f1a0e85",
   "metadata": {},
   "outputs": [],
   "source": []
  }
 ],
 "metadata": {
  "kernelspec": {
   "display_name": "Python 3 (ipykernel)",
   "language": "python",
   "name": "python3"
  },
  "language_info": {
   "codemirror_mode": {
    "name": "ipython",
    "version": 3
   },
   "file_extension": ".py",
   "mimetype": "text/x-python",
   "name": "python",
   "nbconvert_exporter": "python",
   "pygments_lexer": "ipython3",
   "version": "3.10.0"
  }
 },
 "nbformat": 4,
 "nbformat_minor": 5
}
