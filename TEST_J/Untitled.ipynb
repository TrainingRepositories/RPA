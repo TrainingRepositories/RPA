{
 "cells": [
  {
   "cell_type": "code",
   "execution_count": null,
   "id": "1b53e58b-d78f-4d37-bf6d-9ef6f727f147",
   "metadata": {},
   "outputs": [],
   "source": []
  },
  {
   "cell_type": "code",
   "execution_count": null,
   "id": "8ecdf7c6-924b-4904-aa28-a72980fe21f1",
   "metadata": {},
   "outputs": [],
   "source": []
  },
  {
   "cell_type": "code",
   "execution_count": 52,
   "id": "5f138059-a0c4-40d4-9f51-0d43f9b9f24d",
   "metadata": {},
   "outputs": [],
   "source": [
    "set_v = {13,4,664,4,6,7,7}"
   ]
  },
  {
   "cell_type": "code",
   "execution_count": 54,
   "id": "ac75627b-4dc0-4b81-844e-fa60b3b85212",
   "metadata": {},
   "outputs": [
    {
     "data": {
      "text/plain": [
       "set"
      ]
     },
     "execution_count": 54,
     "metadata": {},
     "output_type": "execute_result"
    }
   ],
   "source": [
    "type(set_v)"
   ]
  },
  {
   "cell_type": "code",
   "execution_count": 61,
   "id": "b01ea863-2556-4ab0-9faa-e8db7880b3db",
   "metadata": {},
   "outputs": [],
   "source": [
    "x = tuple(set_v)"
   ]
  },
  {
   "cell_type": "code",
   "execution_count": 62,
   "id": "daa78990-a983-4d28-a212-901c1a93ed4e",
   "metadata": {},
   "outputs": [
    {
     "data": {
      "text/plain": [
       "(4, 6, 7, 664, 13)"
      ]
     },
     "execution_count": 62,
     "metadata": {},
     "output_type": "execute_result"
    }
   ],
   "source": [
    "x"
   ]
  },
  {
   "cell_type": "code",
   "execution_count": 72,
   "id": "67ec7ae8-3d50-4286-8009-8f78cd225162",
   "metadata": {},
   "outputs": [],
   "source": [
    "x_list = list(set([11,1,23,4,444,5454665465464,23,7768]))"
   ]
  },
  {
   "cell_type": "code",
   "execution_count": 69,
   "id": "7506caff-66b1-42b5-962d-48e91a554eda",
   "metadata": {},
   "outputs": [],
   "source": [
    "new_v = set(x_list)"
   ]
  },
  {
   "cell_type": "code",
   "execution_count": 71,
   "id": "570f34b5-e1bf-4420-89ce-67e52595cef1",
   "metadata": {},
   "outputs": [
    {
     "data": {
      "text/plain": [
       "[1, 4, 11, 7768, 23, 5454665465464, 444]"
      ]
     },
     "execution_count": 71,
     "metadata": {},
     "output_type": "execute_result"
    }
   ],
   "source": [
    "list(new_v)"
   ]
  },
  {
   "cell_type": "code",
   "execution_count": null,
   "id": "1b663e8d-cd94-4b74-a44b-a3cfb5a437b7",
   "metadata": {},
   "outputs": [],
   "source": []
  },
  {
   "cell_type": "code",
   "execution_count": null,
   "id": "2ca32793-8d43-43f5-85bc-5088c256b72c",
   "metadata": {},
   "outputs": [],
   "source": []
  },
  {
   "cell_type": "code",
   "execution_count": null,
   "id": "ebc88717-6e75-463e-ac04-950cb5973065",
   "metadata": {},
   "outputs": [],
   "source": []
  },
  {
   "cell_type": "code",
   "execution_count": 9,
   "id": "0f1f2234-7d3f-4d5b-aa85-92b1cab949c8",
   "metadata": {},
   "outputs": [
    {
     "data": {
      "text/plain": [
       "{4, 6, 7, 13, 664}"
      ]
     },
     "execution_count": 9,
     "metadata": {},
     "output_type": "execute_result"
    }
   ],
   "source": [
    "set_v.add(a"
   ]
  },
  {
   "cell_type": "code",
   "execution_count": null,
   "id": "e3f8bc10-635f-4a50-a8cb-89ec71891e61",
   "metadata": {},
   "outputs": [],
   "source": []
  },
  {
   "cell_type": "code",
   "execution_count": 11,
   "id": "231581be-acba-43a3-8869-8ae4afb77981",
   "metadata": {},
   "outputs": [],
   "source": [
    "string_X = \"\"\"\n",
    "\n",
    "shs\n",
    "\"\"\""
   ]
  },
  {
   "cell_type": "code",
   "execution_count": 18,
   "id": "087c8ee0-ed5f-4a5a-b2b5-5dadbde38a60",
   "metadata": {},
   "outputs": [
    {
     "name": "stdout",
     "output_type": "stream",
     "text": [
      "myname is :____abdulwahab\n",
      "aa\n"
     ]
    }
   ],
   "source": [
    "print(\"myname is :\" ,end='____')\n",
    "print(\"abdulwahab\")\n",
    "print(\"aa\")"
   ]
  },
  {
   "cell_type": "code",
   "execution_count": null,
   "id": "8cacb8e5-9b44-40b5-82d8-2dc031993852",
   "metadata": {},
   "outputs": [],
   "source": [
    "print("
   ]
  },
  {
   "cell_type": "code",
   "execution_count": null,
   "id": "606fb791-1e8e-41d5-bfd1-1e0ecbd40a0e",
   "metadata": {},
   "outputs": [],
   "source": []
  },
  {
   "cell_type": "code",
   "execution_count": 1,
   "id": "72614aee-1026-41c8-a0ef-04ac483be79f",
   "metadata": {},
   "outputs": [
    {
     "name": "stdout",
     "output_type": "stream",
     "text": [
      "hello\n"
     ]
    }
   ],
   "source": [
    "print(\"hello\")"
   ]
  },
  {
   "cell_type": "code",
   "execution_count": null,
   "id": "8a16af92-b131-484e-b9a3-6fb290ec7465",
   "metadata": {},
   "outputs": [],
   "source": []
  },
  {
   "cell_type": "code",
   "execution_count": 45,
   "id": "227d7197-3d14-4a0d-909e-6a936545f53b",
   "metadata": {},
   "outputs": [],
   "source": [
    "x = set()"
   ]
  },
  {
   "cell_type": "code",
   "execution_count": 43,
   "id": "4291c40d-0c02-44f1-85da-ceaa913ad0d9",
   "metadata": {},
   "outputs": [],
   "source": [
    "s = dict()"
   ]
  },
  {
   "cell_type": "code",
   "execution_count": 26,
   "id": "3052ca6e-a11e-49e4-be27-5ec5cc73823a",
   "metadata": {},
   "outputs": [],
   "source": [
    "y = int()"
   ]
  },
  {
   "cell_type": "code",
   "execution_count": null,
   "id": "37f85ced-6d98-4ba9-a3a1-98fc3aa04ab6",
   "metadata": {},
   "outputs": [],
   "source": [
    "float"
   ]
  },
  {
   "cell_type": "code",
   "execution_count": 25,
   "id": "a626660b-4823-4d63-a2f3-3c2bd57cd298",
   "metadata": {},
   "outputs": [
    {
     "data": {
      "text/plain": [
       "dict"
      ]
     },
     "execution_count": 25,
     "metadata": {},
     "output_type": "execute_result"
    }
   ],
   "source": [
    "type(s)"
   ]
  },
  {
   "cell_type": "code",
   "execution_count": 31,
   "id": "61cd070f-4ed1-4aaa-8b25-aeea2cc3b7b8",
   "metadata": {},
   "outputs": [],
   "source": [
    "x = {\"key1\":\"v1\"}"
   ]
  },
  {
   "cell_type": "code",
   "execution_count": 32,
   "id": "6ae70827-76c6-4d57-bbf1-7bb0343788d8",
   "metadata": {},
   "outputs": [
    {
     "data": {
      "text/plain": [
       "{'key1': 'v1'}"
      ]
     },
     "execution_count": 32,
     "metadata": {},
     "output_type": "execute_result"
    }
   ],
   "source": [
    "x"
   ]
  },
  {
   "cell_type": "code",
   "execution_count": 33,
   "id": "b1d93a68-a85d-4672-b2ac-b6f82ad120e8",
   "metadata": {},
   "outputs": [],
   "source": [
    "x[\"key2\"]  = \"v2\""
   ]
  },
  {
   "cell_type": "code",
   "execution_count": 34,
   "id": "748dd042-f089-406a-acae-b66eab3221a6",
   "metadata": {},
   "outputs": [
    {
     "data": {
      "text/plain": [
       "{'key1': 'v1', 'key2': 'v2'}"
      ]
     },
     "execution_count": 34,
     "metadata": {},
     "output_type": "execute_result"
    }
   ],
   "source": [
    "x"
   ]
  },
  {
   "cell_type": "code",
   "execution_count": 37,
   "id": "fceabf04-e8bd-42ad-8586-f1f2d93dffd3",
   "metadata": {},
   "outputs": [],
   "source": [
    "x[\"key2\"]  = \"v222\""
   ]
  },
  {
   "cell_type": "code",
   "execution_count": 38,
   "id": "9e059ec1-13b3-4220-8877-ea07e9495b10",
   "metadata": {},
   "outputs": [
    {
     "data": {
      "text/plain": [
       "{'key1': 'v1', 'key2': 'v222'}"
      ]
     },
     "execution_count": 38,
     "metadata": {},
     "output_type": "execute_result"
    }
   ],
   "source": [
    "x"
   ]
  },
  {
   "cell_type": "code",
   "execution_count": null,
   "id": "b91937ef-f36f-4905-84a9-bcd7c3283bb2",
   "metadata": {},
   "outputs": [],
   "source": []
  },
  {
   "cell_type": "code",
   "execution_count": 39,
   "id": "d755a0a9-e0f9-4618-9360-e3e4d82a4cd0",
   "metadata": {},
   "outputs": [
    {
     "data": {
      "text/plain": [
       "{}"
      ]
     },
     "execution_count": 39,
     "metadata": {},
     "output_type": "execute_result"
    }
   ],
   "source": [
    "s"
   ]
  },
  {
   "cell_type": "code",
   "execution_count": 46,
   "id": "447550b8-7746-4b88-a683-3ee56d809287",
   "metadata": {},
   "outputs": [
    {
     "data": {
      "text/plain": [
       "set"
      ]
     },
     "execution_count": 46,
     "metadata": {},
     "output_type": "execute_result"
    }
   ],
   "source": [
    "type(x)"
   ]
  },
  {
   "cell_type": "code",
   "execution_count": 47,
   "id": "6364d961-e6eb-4dc0-a386-a7178340ba3d",
   "metadata": {},
   "outputs": [],
   "source": [
    "x.add(11)"
   ]
  },
  {
   "cell_type": "code",
   "execution_count": 48,
   "id": "a7b92807-317d-4b22-a5e9-0c095f6e7ff1",
   "metadata": {},
   "outputs": [
    {
     "data": {
      "text/plain": [
       "{11}"
      ]
     },
     "execution_count": 48,
     "metadata": {},
     "output_type": "execute_result"
    }
   ],
   "source": [
    "x"
   ]
  },
  {
   "cell_type": "code",
   "execution_count": 49,
   "id": "c21a14a7-46f9-4cce-8101-ce8b33cd0208",
   "metadata": {},
   "outputs": [],
   "source": [
    "x.add(1222)"
   ]
  },
  {
   "cell_type": "code",
   "execution_count": 50,
   "id": "18cdcd43-0041-4883-af14-ec1a700cd2ba",
   "metadata": {},
   "outputs": [
    {
     "data": {
      "text/plain": [
       "{11, 1222}"
      ]
     },
     "execution_count": 50,
     "metadata": {},
     "output_type": "execute_result"
    }
   ],
   "source": [
    "x"
   ]
  },
  {
   "cell_type": "code",
   "execution_count": 51,
   "id": "e145134b-8da1-45b1-947c-c26a205e2800",
   "metadata": {},
   "outputs": [],
   "source": [
    "x.add(1222)"
   ]
  },
  {
   "cell_type": "code",
   "execution_count": null,
   "id": "1d4c6046-c0f6-4cd0-a5ed-58e9d918cb22",
   "metadata": {},
   "outputs": [],
   "source": []
  }
 ],
 "metadata": {
  "kernelspec": {
   "display_name": "Python 3 (ipykernel)",
   "language": "python",
   "name": "python3"
  },
  "language_info": {
   "codemirror_mode": {
    "name": "ipython",
    "version": 3
   },
   "file_extension": ".py",
   "mimetype": "text/x-python",
   "name": "python",
   "nbconvert_exporter": "python",
   "pygments_lexer": "ipython3",
   "version": "3.10.14"
  }
 },
 "nbformat": 4,
 "nbformat_minor": 5
}
