{
 "cells": [
  {
   "cell_type": "code",
   "execution_count": 1,
   "metadata": {
    "vscode": {
     "languageId": "plaintext"
    }
   },
   "outputs": [],
   "source": [
    "import sqlite3\n",
    "from fastapi import FastAPI, Request, HTTPException\n",
    "from fastapi.responses import JSONResponse\n",
    "import uvicorn\n",
    "from fastapi import FastAPI\n",
    "from pydantic import BaseModel"
   ]
  },
  {
   "cell_type": "code",
   "execution_count": 2,
   "metadata": {},
   "outputs": [],
   "source": [
    "from threading import Thread\n"
   ]
  },
  {
   "cell_type": "code",
   "execution_count": 3,
   "metadata": {},
   "outputs": [],
   "source": [
    "app = FastAPI()"
   ]
  },
  {
   "cell_type": "code",
   "execution_count": 4,
   "metadata": {},
   "outputs": [],
   "source": [
    "class Student(BaseModel):\n",
    "    name: str\n",
    "    course: str  \n",
    "    code: str\n",
    "    instructor: str"
   ]
  },
  {
   "cell_type": "code",
   "execution_count": 5,
   "metadata": {},
   "outputs": [
    {
     "name": "stdout",
     "output_type": "stream",
     "text": [
      "Table created successfully!\n"
     ]
    }
   ],
   "source": [
    "\n",
    "# Step 1: Connect to the SQLite database (creates the file if it doesn't exist)\n",
    "conn = sqlite3.connect('database1.db')\n",
    "\n",
    "# Step 2: Create a cursor object\n",
    "cursor = conn.cursor()\n",
    "\n",
    "# Step 3: Write SQL command to create a table\n",
    "create_table_query = '''\n",
    "CREATE TABLE IF NOT EXISTS students (\n",
    "    id INTEGER PRIMARY KEY AUTOINCREMENT,\n",
    "    name TEXT NOT NULL,\n",
    "    course TEXT NOT NULL,\n",
    "    code TEXT NOT NULL,\n",
    "    instructor TEXT NOT NULL\n",
    ");\n",
    "'''\n",
    "\n",
    "# Step 4: Execute the command\n",
    "cursor.execute(create_table_query)\n",
    "\n",
    "# Step 5: Commit the transaction\n",
    "conn.commit()\n",
    "\n",
    "# Step 6: Close the connection\n",
    "conn.close()\n",
    "\n",
    "print(\"Table created successfully!\")"
   ]
  },
  {
   "cell_type": "code",
   "execution_count": 6,
   "metadata": {},
   "outputs": [],
   "source": [
    "@app.post(\"/students/\")\n",
    "def InsertIntoTable(obj:Student) -> None:\n",
    "    \"\"\"\n",
    "    this .... \n",
    "    \"\"\"\n",
    "    with sqlite3.connect('database1.db') as conn2: \n",
    "        curr = conn2.cursor()\n",
    "        try:\n",
    "            result = curr.execute('''\n",
    "                INSERT INTO students (name, course, code, instructor) VALUES (?, ?, ?, ?)\n",
    "            ''', (obj.name, obj.course, obj.code, obj.instructor))\n",
    "        except NameError as e :\n",
    "            print(f\"Name Error Exception {e}\")\n",
    "        finally:\n",
    "            print(\"finally executed\")  \n",
    "    # return GetTableInfo()\n",
    "    \n",
    "    "
   ]
  },
  {
   "cell_type": "code",
   "execution_count": 7,
   "metadata": {},
   "outputs": [],
   "source": [
    "@app.get(\"/students/\")\n",
    "def GetTableInfo() -> list[tuple]:\n",
    "    \"\"\"\n",
    "    return table results \n",
    "    \"\"\" \n",
    "    with sqlite3.connect(\"database1.db\") as conn:\n",
    "        cur = conn.cursor()\n",
    "        try:\n",
    "            results = cur.execute(\"\"\"select * from students\"\"\")\n",
    "            return results.fetchall()\n",
    "        except Exception as e:\n",
    "            print(f\"Exception error {e}\")"
   ]
  },
  {
   "cell_type": "code",
   "execution_count": 8,
   "metadata": {},
   "outputs": [],
   "source": [
    "@app.put(\"/students/{student_id}\", response_model=dict)\n",
    "def PutUpdateStudent(student_id: int, obj: Student) -> None:\n",
    "    \"\"\"\n",
    "    Update all fields of a specific student (PUT).\n",
    "    \"\"\"\n",
    "    with sqlite3.connect('database1.db') as conn:\n",
    "        curr = conn.cursor()\n",
    "        try:\n",
    "            curr.execute('''\n",
    "                UPDATE students\n",
    "                SET name = ?, course = ?, code = ?, instructor = ?\n",
    "                WHERE id = ?\n",
    "            ''', (obj.name, obj.course, obj.code, obj.instructor, student_id))\n",
    "            conn.commit()\n",
    "            print(f\"Student with ID {student_id} updated successfully.\")\n",
    "        except Exception as e:\n",
    "            print(f\"Exception error: {e}\")"
   ]
  },
  {
   "cell_type": "code",
   "execution_count": 9,
   "metadata": {},
   "outputs": [],
   "source": [
    "# @app.patch(\"/students/{student_id}\", response_model=dict)\n",
    "def PatchUpdateStudent(student_id: int, **kwargs) -> None:\n",
    "    \"\"\"\n",
    "    Update specific fields of a student (PATCH).\n",
    "    Only updates fields provided in kwargs.\n",
    "    \"\"\"\n",
    "    with sqlite3.connect('database1.db') as conn:\n",
    "        curr = conn.cursor()\n",
    "        # Generate dynamic SQL for the columns provided in kwargs\n",
    "        fields = \", \".join(f\"{key} = ?\" for key in kwargs.keys())\n",
    "        values = list(kwargs.values())\n",
    "        values.append(student_id)\n",
    "        try:\n",
    "            query = f\"UPDATE students SET {fields} WHERE id = ?\"\n",
    "            curr.execute(query, values)\n",
    "            conn.commit()\n",
    "            print(f\"Student with ID {student_id} updated successfully.\")\n",
    "        except Exception as e:\n",
    "            print(f\"Exception error: {e}\")"
   ]
  },
  {
   "cell_type": "code",
   "execution_count": 10,
   "metadata": {},
   "outputs": [],
   "source": [
    "@app.delete(\"/students/{student_id}\")\n",
    "def DeleteStudent(student_id: int) -> None:\n",
    "    \"\"\"\n",
    "    Delete a student record from the database.\n",
    "    \"\"\"\n",
    "    with sqlite3.connect('database1.db') as conn:\n",
    "        curr = conn.cursor()\n",
    "        try:\n",
    "            curr.execute('''\n",
    "                DELETE FROM students\n",
    "                WHERE id = ?\n",
    "            ''', (student_id,))\n",
    "            conn.commit()\n",
    "            print(f\"Student with ID {student_id} deleted successfully.\")\n",
    "        except Exception as e:\n",
    "            print(f\"Exception error: {e}\")\n"
   ]
  },
  {
   "cell_type": "code",
   "execution_count": 11,
   "metadata": {},
   "outputs": [],
   "source": [
    "def run_uvicorn():\n",
    "    uvicorn.run(app, host=\"127.0.0.1\", port=8000)"
   ]
  },
  {
   "cell_type": "code",
   "execution_count": 42,
   "metadata": {},
   "outputs": [],
   "source": [
    "# std1 = Student(name=\"ahmed\", course=\"bio\", code=\"bio101\", instructor=\"ali\")"
   ]
  },
  {
   "cell_type": "code",
   "execution_count": 48,
   "metadata": {},
   "outputs": [],
   "source": [
    "# std2 = Student(name=\"nora\", course=\"math\" , code=\"102\" , instructor=\"omer\")"
   ]
  },
  {
   "cell_type": "code",
   "execution_count": 59,
   "metadata": {},
   "outputs": [
    {
     "data": {
      "text/plain": [
       "[(2, 'ahmed', 'bio', 'bio101', 'ali'),\n",
       " (3, 'ahmed', 'bio', 'bio101', 'ali'),\n",
       " (4, 'smith', 'bio', '303', 'joen'),\n",
       " (5, 'smith', 'bio', '303', 'joen')]"
      ]
     },
     "execution_count": 59,
     "metadata": {},
     "output_type": "execute_result"
    }
   ],
   "source": [
    "# GetTableInfo()"
   ]
  },
  {
   "cell_type": "code",
   "execution_count": 46,
   "metadata": {},
   "outputs": [
    {
     "name": "stdout",
     "output_type": "stream",
     "text": [
      "finally executed\n"
     ]
    },
    {
     "data": {
      "text/plain": [
       "[(2, 'ahmed', 'bio', 'bio101', 'ali'), (3, 'ahmed', 'bio', 'bio101', 'ali')]"
      ]
     },
     "execution_count": 46,
     "metadata": {},
     "output_type": "execute_result"
    }
   ],
   "source": [
    "# InsertIntoTable(std1)"
   ]
  },
  {
   "cell_type": "code",
   "execution_count": 49,
   "metadata": {},
   "outputs": [
    {
     "name": "stdout",
     "output_type": "stream",
     "text": [
      "Student with ID 1 updated successfully.\n"
     ]
    }
   ],
   "source": [
    "# PutUpdateStudent(1,std2)"
   ]
  },
  {
   "cell_type": "code",
   "execution_count": 51,
   "metadata": {},
   "outputs": [
    {
     "name": "stdout",
     "output_type": "stream",
     "text": [
      "Student with ID 1 updated successfully.\n"
     ]
    }
   ],
   "source": [
    "# PatchUpdateStudent(student_id=1, course=\"Chemistry\")\n"
   ]
  },
  {
   "cell_type": "code",
   "execution_count": 54,
   "metadata": {},
   "outputs": [
    {
     "name": "stdout",
     "output_type": "stream",
     "text": [
      "Student with ID 1 deleted successfully.\n"
     ]
    }
   ],
   "source": [
    "# DeleteStudent(student_id=1)\n"
   ]
  },
  {
   "cell_type": "code",
   "execution_count": 12,
   "metadata": {},
   "outputs": [
    {
     "name": "stderr",
     "output_type": "stream",
     "text": [
      "INFO:     Started server process [19088]\n",
      "INFO:     Waiting for application startup.\n",
      "INFO:     Application startup complete.\n",
      "INFO:     Uvicorn running on http://127.0.0.1:8000 (Press CTRL+C to quit)\n"
     ]
    }
   ],
   "source": [
    "server_thread = Thread(target=run_uvicorn)\n",
    "server_thread.start()"
   ]
  },
  {
   "cell_type": "code",
   "execution_count": null,
   "metadata": {},
   "outputs": [],
   "source": []
  }
 ],
 "metadata": {
  "kernelspec": {
   "display_name": "Python 3 (ipykernel)",
   "language": "python",
   "name": "python3"
  },
  "language_info": {
   "codemirror_mode": {
    "name": "ipython",
    "version": 3
   },
   "file_extension": ".py",
   "mimetype": "text/x-python",
   "name": "python",
   "nbconvert_exporter": "python",
   "pygments_lexer": "ipython3",
   "version": "3.12.6"
  }
 },
 "nbformat": 4,
 "nbformat_minor": 4
}
