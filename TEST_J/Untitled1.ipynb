{
 "cells": [
  {
   "cell_type": "code",
   "execution_count": 1,
   "id": "4e13e3f2-b2d1-451d-8b28-0585c0abe14d",
   "metadata": {},
   "outputs": [],
   "source": [
    "import argon2"
   ]
  },
  {
   "cell_type": "code",
   "execution_count": null,
   "id": "02fb1bca-baf5-499a-8539-4a86dde95b7e",
   "metadata": {},
   "outputs": [],
   "source": []
  },
  {
   "cell_type": "code",
   "execution_count": 23,
   "id": "b1ba82c9-8a5b-4891-a851-b39c9e84009d",
   "metadata": {},
   "outputs": [],
   "source": [
    "sssss = range(3,6)"
   ]
  },
  {
   "cell_type": "code",
   "execution_count": 27,
   "id": "563371c9-0873-45cb-86ad-dc74f8f8539f",
   "metadata": {},
   "outputs": [],
   "source": [
    "t1 = (1,2,4,5,65)"
   ]
  },
  {
   "cell_type": "code",
   "execution_count": 47,
   "id": "a4edf132-d4f1-434b-a7b4-db416a345e5e",
   "metadata": {},
   "outputs": [],
   "source": [
    "t11 = [1,2 , 3]"
   ]
  },
  {
   "cell_type": "code",
   "execution_count": 49,
   "id": "1e48d93a-ae27-4ee5-9cbb-90f49c8f9df0",
   "metadata": {},
   "outputs": [],
   "source": [
    "x1 , x2  , x3= t11"
   ]
  },
  {
   "cell_type": "code",
   "execution_count": 51,
   "id": "60c9b40f-4954-4cf1-84da-5873a294109c",
   "metadata": {},
   "outputs": [
    {
     "data": {
      "text/plain": [
       "(1, 2, 3)"
      ]
     },
     "execution_count": 51,
     "metadata": {},
     "output_type": "execute_result"
    }
   ],
   "source": [
    "x1 , x2  , x3"
   ]
  },
  {
   "cell_type": "code",
   "execution_count": null,
   "id": "f4612b11-4f46-4070-ac9a-46609bc465b4",
   "metadata": {},
   "outputs": [],
   "source": []
  },
  {
   "cell_type": "code",
   "execution_count": null,
   "id": "f388f3aa-54ee-4e3b-90f2-4d98593a86c1",
   "metadata": {},
   "outputs": [],
   "source": []
  },
  {
   "cell_type": "code",
   "execution_count": 28,
   "id": "78b9df48-a105-4e75-9a27-3593654d6909",
   "metadata": {},
   "outputs": [],
   "source": [
    "l1 = list(t1)"
   ]
  },
  {
   "cell_type": "code",
   "execution_count": 32,
   "id": "e958c63e-ff66-4b53-b486-3e2a583f4356",
   "metadata": {},
   "outputs": [],
   "source": [
    "d1 = {\"k1\":1,\"k2\":2,\"k3\":3,\"k4\":4}"
   ]
  },
  {
   "cell_type": "code",
   "execution_count": 54,
   "id": "d24cdb1e-a79f-4c57-a612-e57f7ccf2e40",
   "metadata": {},
   "outputs": [
    {
     "data": {
      "text/plain": [
       "dict_items"
      ]
     },
     "execution_count": 54,
     "metadata": {},
     "output_type": "execute_result"
    }
   ],
   "source": [
    "type(d1.items())"
   ]
  },
  {
   "cell_type": "code",
   "execution_count": 59,
   "id": "755f0c5e-3697-41b8-9b5b-b6305a8d479e",
   "metadata": {},
   "outputs": [
    {
     "name": "stdout",
     "output_type": "stream",
     "text": [
      "k1 1 s aaa\n",
      "k2 2 s aaa\n",
      "k3 3 s aaa\n",
      "k4 4 s aaa\n"
     ]
    }
   ],
   "source": [
    "for key1 , v1 in d1.items():\n",
    "    print(key1 , v1 , \"s\" , \"aaa\" )"
   ]
  },
  {
   "cell_type": "code",
   "execution_count": null,
   "id": "3eabad81-c807-47e2-9576-99d4f318bc23",
   "metadata": {},
   "outputs": [],
   "source": []
  },
  {
   "cell_type": "code",
   "execution_count": 64,
   "id": "3bed1c17-f3e6-44d1-aa63-a44cdbcb57b4",
   "metadata": {},
   "outputs": [
    {
     "data": {
      "text/plain": [
       "[1, 2, 3, 4, 5, 6, 7, 8, 9, 10]"
      ]
     },
     "execution_count": 64,
     "metadata": {},
     "output_type": "execute_result"
    }
   ],
   "source": [
    "list(range(1,11))"
   ]
  },
  {
   "cell_type": "code",
   "execution_count": null,
   "id": "161dbcb1-661b-45bf-ba85-0ddcc29134e7",
   "metadata": {},
   "outputs": [],
   "source": []
  },
  {
   "cell_type": "code",
   "execution_count": 67,
   "id": "8ba39398-9740-48cf-aea5-5c841f2c2a9a",
   "metadata": {},
   "outputs": [],
   "source": [
    "xxx = [1, 2, 3, 4, 5, 6, 7, 8, 9, 10]"
   ]
  },
  {
   "cell_type": "code",
   "execution_count": null,
   "id": "ec4a912d-1bca-483f-9463-097a668bed67",
   "metadata": {},
   "outputs": [],
   "source": []
  },
  {
   "cell_type": "code",
   "execution_count": 101,
   "id": "bdce2efd-7d6b-4f7a-b75b-ea9601a1e2bd",
   "metadata": {},
   "outputs": [],
   "source": [
    "def fun1(kk):\n",
    "    print(\"im in fun1  \", kk)"
   ]
  },
  {
   "cell_type": "code",
   "execution_count": 102,
   "id": "969f3544-b7ec-4d1f-b732-816a67b041ca",
   "metadata": {},
   "outputs": [
    {
     "name": "stdout",
     "output_type": "stream",
     "text": [
      "result before  []\n",
      "im in fun1   1\n",
      "im in fun1   2\n",
      "im in fun1   3\n",
      "im in fun1   4\n",
      "im in fun1   5\n",
      "im in fun1   6\n",
      "im in fun1   7\n",
      "im in fun1   8\n",
      "im in fun1   9\n",
      "im in fun1   10\n",
      "result after  [None, None, None, None, None, None, None, None, None, None]\n"
     ]
    }
   ],
   "source": [
    "result = []\n",
    "print(\"result before \" , result)\n",
    "for k in [1, 2, 3, 4, 5, 6, 7, 8, 9, 10]:\n",
    "    fun1_resul_tempt = fun1(k)\n",
    "    result.append(fun1_resul_tempt)\n",
    "print(\"result after \" , result)"
   ]
  },
  {
   "cell_type": "code",
   "execution_count": 107,
   "id": "f789a3ce-4b40-4924-b873-d1b49d3ca3f5",
   "metadata": {},
   "outputs": [
    {
     "name": "stdout",
     "output_type": "stream",
     "text": [
      "4\n",
      "5\n",
      "6\n",
      "7\n",
      "8\n",
      "9\n",
      "10\n"
     ]
    },
    {
     "data": {
      "text/plain": [
       "[None, None, None, None, None, None, None]"
      ]
     },
     "execution_count": 107,
     "metadata": {},
     "output_type": "execute_result"
    }
   ],
   "source": [
    "[ print(k) for k in xxx if k > 3]"
   ]
  },
  {
   "cell_type": "code",
   "execution_count": 106,
   "id": "f846b4ed-feb2-41a9-be59-220003540175",
   "metadata": {},
   "outputs": [
    {
     "data": {
      "text/plain": [
       "[None, None, None, None, None, None, None]"
      ]
     },
     "execution_count": 106,
     "metadata": {},
     "output_type": "execute_result"
    }
   ],
   "source": [
    "c_result"
   ]
  },
  {
   "cell_type": "code",
   "execution_count": null,
   "id": "356c6b6a-f8e9-417f-bbd8-b4f8b6a98ea3",
   "metadata": {},
   "outputs": [],
   "source": []
  },
  {
   "cell_type": "code",
   "execution_count": null,
   "id": "52b262ee-f73e-4e7c-af3a-ec7f2eadf775",
   "metadata": {},
   "outputs": [],
   "source": []
  },
  {
   "cell_type": "code",
   "execution_count": null,
   "id": "401e1f53-fa36-44d5-86e5-5d6193dd5faa",
   "metadata": {},
   "outputs": [],
   "source": []
  },
  {
   "cell_type": "code",
   "execution_count": 74,
   "id": "48b5a618-bbd5-492a-9dcc-cb6debaf8805",
   "metadata": {},
   "outputs": [
    {
     "name": "stdout",
     "output_type": "stream",
     "text": [
      "1\n",
      "None\n",
      "2\n",
      "None\n",
      "3\n",
      "None\n",
      "4\n",
      "None\n",
      "5\n",
      "None\n",
      "6\n",
      "None\n",
      "7\n",
      "None\n",
      "8\n",
      "None\n",
      "9\n",
      "None\n",
      "10\n",
      "None\n"
     ]
    }
   ],
   "source": [
    "for __ in (print(k) for k in xxx):\n",
    "    print(__)"
   ]
  },
  {
   "cell_type": "code",
   "execution_count": null,
   "id": "e196a129-e428-4bd1-9b99-9028378c0893",
   "metadata": {},
   "outputs": [],
   "source": []
  },
  {
   "cell_type": "code",
   "execution_count": null,
   "id": "5b4aac1d-5d03-4c07-868b-7a2b2a7cf30b",
   "metadata": {},
   "outputs": [],
   "source": []
  },
  {
   "cell_type": "code",
   "execution_count": null,
   "id": "98a834d8-bb0e-4619-bcef-d88758d3666c",
   "metadata": {},
   "outputs": [],
   "source": []
  },
  {
   "cell_type": "code",
   "execution_count": null,
   "id": "33c92e3c-280a-449c-be03-51072b5bb356",
   "metadata": {},
   "outputs": [],
   "source": []
  },
  {
   "cell_type": "code",
   "execution_count": null,
   "id": "5fca758a-5bc7-4cf9-a52e-b39f814ffea4",
   "metadata": {},
   "outputs": [],
   "source": []
  },
  {
   "cell_type": "code",
   "execution_count": null,
   "id": "f37ddff5-8ed3-4962-930b-5b1cf936ec9e",
   "metadata": {},
   "outputs": [],
   "source": []
  },
  {
   "cell_type": "code",
   "execution_count": 108,
   "id": "8c5018a4-7edf-4d3e-8cec-fed5b648a126",
   "metadata": {},
   "outputs": [],
   "source": [
    "def fun2():\n",
    "    print(\"im in fun2\")"
   ]
  },
  {
   "cell_type": "code",
   "execution_count": 110,
   "id": "fa54c940-12dd-401f-aac2-fa4fb3d5402c",
   "metadata": {},
   "outputs": [
    {
     "name": "stdout",
     "output_type": "stream",
     "text": [
      "im in fun2\n"
     ]
    }
   ],
   "source": [
    "fun2()"
   ]
  },
  {
   "cell_type": "code",
   "execution_count": 112,
   "id": "316bddaa-05fa-4639-b9dc-c077f3c0757f",
   "metadata": {},
   "outputs": [],
   "source": [
    "str_x_example = \"aabbcdef\"\n"
   ]
  },
  {
   "cell_type": "code",
   "execution_count": 117,
   "id": "d6503013-10c5-4baf-b557-beec2fc36089",
   "metadata": {},
   "outputs": [
    {
     "name": "stdout",
     "output_type": "stream",
     "text": [
      "________bbcdef\n"
     ]
    }
   ],
   "source": [
    "def count_a(x):\n",
    "    return x.replace('a',\"____\")\n",
    "\n",
    "print(count_a(str_x_example))  # Output: 2"
   ]
  },
  {
   "cell_type": "code",
   "execution_count": 118,
   "id": "c5455911-cdd6-4634-add7-3a2a232bba93",
   "metadata": {},
   "outputs": [
    {
     "name": "stdout",
     "output_type": "stream",
     "text": [
      "________bbcdef\n"
     ]
    }
   ],
   "source": [
    "# Using lambda to count occurrences of 'a' in str_x_example\n",
    "lambda_count_a = lambda x: x.replace('a',\"____\")\n",
    "\n",
    "\n",
    "print(lambda_count_a(str_x_example))  # Output: 2"
   ]
  },
  {
   "cell_type": "code",
   "execution_count": 116,
   "id": "07829b1b-cc91-4a4e-bc19-c2187ebeba9d",
   "metadata": {},
   "outputs": [],
   "source": [
    "sss = \"ssS\""
   ]
  },
  {
   "cell_type": "code",
   "execution_count": null,
   "id": "9b32f2b8-c8da-4d7d-b1f5-aef792256434",
   "metadata": {},
   "outputs": [],
   "source": [
    "sss.replace"
   ]
  },
  {
   "cell_type": "code",
   "execution_count": null,
   "id": "ef2ba8a4-40ba-41ea-8d67-d67032c74f84",
   "metadata": {},
   "outputs": [],
   "source": []
  },
  {
   "cell_type": "code",
   "execution_count": null,
   "id": "1c72ccfb-cfcb-4e0e-9fb4-91e46f53a1bd",
   "metadata": {},
   "outputs": [],
   "source": []
  },
  {
   "cell_type": "code",
   "execution_count": 119,
   "id": "7ff4cdc1-9f79-48da-8cb9-d1c310006901",
   "metadata": {},
   "outputs": [
    {
     "data": {
      "text/plain": [
       "[1, 2, 3, 4, 5, 6, 7, 8, 9, 10]"
      ]
     },
     "execution_count": 119,
     "metadata": {},
     "output_type": "execute_result"
    }
   ],
   "source": [
    "xxx"
   ]
  },
  {
   "cell_type": "code",
   "execution_count": 121,
   "id": "7aa95af6-2447-40c5-ad5b-84ed646b0788",
   "metadata": {},
   "outputs": [
    {
     "data": {
      "text/plain": [
       "[(0, 1),\n",
       " (1, 2),\n",
       " (2, 3),\n",
       " (3, 4),\n",
       " (4, 5),\n",
       " (5, 6),\n",
       " (6, 7),\n",
       " (7, 8),\n",
       " (8, 9),\n",
       " (9, 10)]"
      ]
     },
     "execution_count": 121,
     "metadata": {},
     "output_type": "execute_result"
    }
   ],
   "source": [
    "list(enumerate(xxx))"
   ]
  }
 ],
 "metadata": {
  "kernelspec": {
   "display_name": "Python 3 (ipykernel)",
   "language": "python",
   "name": "python3"
  },
  "language_info": {
   "codemirror_mode": {
    "name": "ipython",
    "version": 3
   },
   "file_extension": ".py",
   "mimetype": "text/x-python",
   "name": "python",
   "nbconvert_exporter": "python",
   "pygments_lexer": "ipython3",
   "version": "3.10.14"
  }
 },
 "nbformat": 4,
 "nbformat_minor": 5
}
