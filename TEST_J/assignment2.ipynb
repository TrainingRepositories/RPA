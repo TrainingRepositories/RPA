{
 "cells": [
  {
   "cell_type": "code",
   "execution_count": 15,
   "id": "bc5c559f-d6ad-452d-b62c-f441e68ffb85",
   "metadata": {},
   "outputs": [],
   "source": [
    "import sqlite3\n",
    "from fastapi import FastAPI, HTTPException\n",
    "from fastapi.responses import JSONResponse\n",
    "from pydantic import BaseModel\n",
    "import uvicorn\n",
    "from threading import Thread\n"
   ]
  },
  {
   "cell_type": "code",
   "execution_count": 20,
   "id": "22d247ec-1b9e-4f49-98b9-d87a74d75022",
   "metadata": {},
   "outputs": [],
   "source": [
    "class MenuItem(BaseModel):\n",
    "    id: int = None\n",
    "    name: str\n",
    "    description: str\n",
    "    price: float"
   ]
  },
  {
   "cell_type": "code",
   "execution_count": 18,
   "id": "8582acba-64aa-454b-ac47-be593eff44fa",
   "metadata": {},
   "outputs": [],
   "source": [
    "def init_db():\n",
    "    with sqlite3.connect('menu.db') as conn:\n",
    "        curr = conn.cursor()\n",
    "        curr.execute('''\n",
    "            CREATE TABLE IF NOT EXISTS menu_items (\n",
    "                id INTEGER PRIMARY KEY AUTOINCREMENT,\n",
    "                name TEXT NOT NULL,\n",
    "                description TEXT,\n",
    "                price REAL NOT NULL\n",
    "            )\n",
    "        ''')"
   ]
  },
  {
   "cell_type": "code",
   "execution_count": 17,
   "id": "363430ee-1f3c-4550-8259-968c0772acbb",
   "metadata": {},
   "outputs": [],
   "source": []
  },
  {
   "cell_type": "code",
   "execution_count": 27,
   "id": "9e5ed5e7-54cb-4d36-a84d-d3f75a73b69d",
   "metadata": {},
   "outputs": [],
   "source": [
    "def get_menu_items() -> list[MenuItem]:\n",
    "    with sqlite3.connect(\"menu.db\") as conn:\n",
    "        cur = conn.cursor()\n",
    "        try:\n",
    "            results = cur.execute(\"\"\"select * from menu_items\"\"\")\n",
    "            return results.fetchall()\n",
    "        except Exception as e:\n",
    "            print(f\"Exception error {e}\")\n",
    "    #return [MenuItem(id=row[0], name=row[1], description=row[2], price=row[3]) for row in rows]"
   ]
  },
  {
   "cell_type": "code",
   "execution_count": 23,
   "id": "6c37e5e1-ac2c-495b-a965-a203802557ec",
   "metadata": {},
   "outputs": [],
   "source": [
    "def insert_menu_item(item: MenuItem) -> list[tuple]:\n",
    "    with sqlite3.connect('menu.db') as conn:\n",
    "        curr = conn.cursor()\n",
    "        curr.execute('''\n",
    "            INSERT INTO menu_items (name, description, price) VALUES (?, ?, ?)\n",
    "        ''', (item.name, item.description, item.price))\n",
    "    return get_menu_items()"
   ]
  },
  {
   "cell_type": "code",
   "execution_count": 28,
   "id": "1461ccd5-65fb-4df5-a979-bffa244fdc0b",
   "metadata": {},
   "outputs": [
    {
     "data": {
      "text/plain": [
       "[(1, 'salad', 'tomato with cucomber', 10.0),\n",
       " (2, 'salad', 'tomato with cucomber', 10.0)]"
      ]
     },
     "execution_count": 28,
     "metadata": {},
     "output_type": "execute_result"
    }
   ],
   "source": [
    "ss = MenuItem(name= \"salad\" , description= \"tomato with cucomber\", price=10)\n",
    "insert_menu_item(ss)"
   ]
  },
  {
   "cell_type": "code",
   "execution_count": 30,
   "id": "010e8ec3-f0a4-4e60-8929-293936e3a7f6",
   "metadata": {},
   "outputs": [
    {
     "data": {
      "text/plain": [
       "[(1, 'salad', 'tomato with cucomber', 10.0),\n",
       " (2, 'salad', 'tomato with cucomber with wheezing', 12.0),\n",
       " (3, 'burger', '2 pices of angos and souce', 15.0)]"
      ]
     },
     "execution_count": 30,
     "metadata": {},
     "output_type": "execute_result"
    }
   ],
   "source": [
    "sm = MenuItem(name= \"burger\" , description= \"2 pices of angos and souce\", price=15)\n",
    "insert_menu_item(sm)"
   ]
  },
  {
   "cell_type": "code",
   "execution_count": 24,
   "id": "eac3169b-0335-4798-9d64-685fd20adb20",
   "metadata": {},
   "outputs": [],
   "source": [
    "def update_menu_item(item: MenuItem) -> list[tuple]:\n",
    "    with sqlite3.connect('menu.db') as conn:\n",
    "        curr = conn.cursor()\n",
    "        curr.execute('''\n",
    "            UPDATE menu_items SET name=?, description=?, price=? WHERE id=?\n",
    "        ''', (item.name, item.description, item.price, item.id))\n",
    "    return get_menu_items()"
   ]
  },
  {
   "cell_type": "code",
   "execution_count": 29,
   "id": "31ca0533-00ac-4c57-af26-1d5634d124e6",
   "metadata": {},
   "outputs": [
    {
     "data": {
      "text/plain": [
       "[(1, 'salad', 'tomato with cucomber', 10.0),\n",
       " (2, 'salad', 'tomato with cucomber with wheezing', 12.0)]"
      ]
     },
     "execution_count": 29,
     "metadata": {},
     "output_type": "execute_result"
    }
   ],
   "source": [
    "upd = MenuItem(name= \"salad\" , description= \"tomato with cucomber with wheezing\", price=12, id = 2)\n",
    "update_menu_item(upd)"
   ]
  },
  {
   "cell_type": "code",
   "execution_count": 25,
   "id": "91db9a58-859d-4534-a806-77afcb26fd56",
   "metadata": {},
   "outputs": [],
   "source": [
    "def delete_menu_item(item_id: int) -> list[tuple]:\n",
    "    with sqlite3.connect('menu.db') as conn:\n",
    "        curr = conn.cursor()\n",
    "        curr.execute('DELETE FROM menu_items WHERE id=?', (item_id,))\n",
    "    return get_menu_items()"
   ]
  },
  {
   "cell_type": "code",
   "execution_count": 31,
   "id": "2292f280-174d-4412-bb4a-5c454c5794ca",
   "metadata": {},
   "outputs": [
    {
     "data": {
      "text/plain": [
       "[(1, 'salad', 'tomato with cucomber', 10.0),\n",
       " (3, 'burger', '2 pices of angos and souce', 15.0)]"
      ]
     },
     "execution_count": 31,
     "metadata": {},
     "output_type": "execute_result"
    }
   ],
   "source": [
    "delete_menu_item(2)"
   ]
  },
  {
   "cell_type": "code",
   "execution_count": null,
   "id": "16c2a188-efac-4f71-9358-75cc1e07f5e4",
   "metadata": {},
   "outputs": [],
   "source": [
    "init_db()"
   ]
  },
  {
   "cell_type": "code",
   "execution_count": 32,
   "id": "dbaed093-b235-44a1-845b-a82f2e3aae95",
   "metadata": {},
   "outputs": [],
   "source": [
    "app = FastAPI()"
   ]
  },
  {
   "cell_type": "code",
   "execution_count": 33,
   "id": "2760826a-6129-4ded-8eea-6ea402431f0d",
   "metadata": {},
   "outputs": [],
   "source": [
    "@app.get(\"/menu/\")\n",
    "async def read_menu():\n",
    "    return get_menu_items()"
   ]
  },
  {
   "cell_type": "code",
   "execution_count": 34,
   "id": "52f262bb-8fec-4b0b-a6c0-fd80970caf61",
   "metadata": {},
   "outputs": [],
   "source": [
    "@app.post(\"/menu/\")\n",
    "async def create_menu_item(item: MenuItem):\n",
    "    return insert_menu_item(item)"
   ]
  },
  {
   "cell_type": "code",
   "execution_count": 35,
   "id": "501f8750-10b7-45be-9f93-94a3faea97d7",
   "metadata": {},
   "outputs": [],
   "source": [
    "@app.put(\"/menu/\")\n",
    "async def update_item(item: MenuItem):\n",
    "    return update_menu_item(item)"
   ]
  },
  {
   "cell_type": "code",
   "execution_count": 36,
   "id": "37375a01-4839-4625-af9b-5b2d3e3befd3",
   "metadata": {},
   "outputs": [],
   "source": [
    "@app.delete(\"/menu/{item_id}\")\n",
    "async def delete_item(item_id: int):\n",
    "    return delete_menu_item(item_id)"
   ]
  },
  {
   "cell_type": "code",
   "execution_count": 37,
   "id": "8b5bf611-4da3-427c-833d-9892f1cde36a",
   "metadata": {},
   "outputs": [],
   "source": [
    "def run_uvicorn():\n",
    "    uvicorn.run(app, host=\"127.0.0.1\", port=8000)"
   ]
  },
  {
   "cell_type": "code",
   "execution_count": 38,
   "id": "5d19dde9-664a-400c-a35b-fa400c5502d0",
   "metadata": {},
   "outputs": [
    {
     "name": "stderr",
     "output_type": "stream",
     "text": [
      "INFO:     Started server process [2112]\n",
      "INFO:     Waiting for application startup.\n",
      "INFO:     Application startup complete.\n",
      "INFO:     Uvicorn running on http://127.0.0.1:8000 (Press CTRL+C to quit)\n"
     ]
    },
    {
     "name": "stdout",
     "output_type": "stream",
     "text": [
      "INFO:     127.0.0.1:56124 - \"GET / HTTP/1.1\" 404 Not Found\n",
      "INFO:     127.0.0.1:56124 - \"GET /favicon.ico HTTP/1.1\" 404 Not Found\n",
      "INFO:     127.0.0.1:56125 - \"GET /docs HTTP/1.1\" 200 OK\n",
      "INFO:     127.0.0.1:56125 - \"GET /openapi.json HTTP/1.1\" 200 OK\n",
      "INFO:     127.0.0.1:56198 - \"GET /docs HTTP/1.1\" 200 OK\n",
      "INFO:     127.0.0.1:56201 - \"GET /docs HTTP/1.1\" 200 OK\n",
      "INFO:     127.0.0.1:56205 - \"GET /docs HTTP/1.1\" 200 OK\n",
      "INFO:     127.0.0.1:56207 - \"GET / HTTP/1.1\" 404 Not Found\n",
      "INFO:     127.0.0.1:56228 - \"GET / HTTP/1.1\" 404 Not Found\n",
      "INFO:     127.0.0.1:56228 - \"GET / HTTP/1.1\" 404 Not Found\n",
      "INFO:     127.0.0.1:56240 - \"GET / HTTP/1.1\" 404 Not Found\n",
      "INFO:     127.0.0.1:56258 - \"GET /menu/ HTTP/1.1\" 200 OK\n",
      "INFO:     127.0.0.1:56394 - \"GET /menu/ HTTP/1.1\" 200 OK\n",
      "INFO:     127.0.0.1:56405 - \"POST /menu/ HTTP/1.1\" 200 OK\n",
      "INFO:     127.0.0.1:56426 - \"POST /menu/ HTTP/1.1\" 200 OK\n",
      "INFO:     127.0.0.1:56447 - \"PUT /menu/ HTTP/1.1\" 200 OK\n",
      "INFO:     127.0.0.1:56475 - \"PUT /menu/ HTTP/1.1\" 200 OK\n",
      "INFO:     127.0.0.1:56491 - \"DELETE /menu/4 HTTP/1.1\" 200 OK\n"
     ]
    }
   ],
   "source": [
    "# Run Uvicorn in a separate thread\n",
    "if __name__ == \"__main__\":\n",
    "    server_thread = Thread(target=run_uvicorn)\n",
    "    server_thread.start()"
   ]
  },
  {
   "cell_type": "code",
   "execution_count": null,
   "id": "13c7d67d-2e9a-4793-b182-21025a331ae5",
   "metadata": {},
   "outputs": [],
   "source": []
  }
 ],
 "metadata": {
  "kernelspec": {
   "display_name": "Python 3 (ipykernel)",
   "language": "python",
   "name": "python3"
  },
  "language_info": {
   "codemirror_mode": {
    "name": "ipython",
    "version": 3
   },
   "file_extension": ".py",
   "mimetype": "text/x-python",
   "name": "python",
   "nbconvert_exporter": "python",
   "pygments_lexer": "ipython3",
   "version": "3.10.0"
  }
 },
 "nbformat": 4,
 "nbformat_minor": 5
}
