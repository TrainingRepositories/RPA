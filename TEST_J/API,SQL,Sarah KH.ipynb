{
 "cells": [
  {
   "cell_type": "code",
   "execution_count": 107,
   "id": "bb7e5659-47e4-4237-afdb-06970edfd374",
   "metadata": {},
   "outputs": [],
   "source": [
    "%config Completer.use_jedi = False"
   ]
  },
  {
   "cell_type": "code",
   "execution_count": 108,
   "id": "5b2ffc7d-4c0a-4a5c-bdbf-97f66f003670",
   "metadata": {},
   "outputs": [],
   "source": [
    "import sqlite3\n",
    "from fastapi import FastAPI, Request, HTTPException\n",
    "from fastapi.responses import JSONResponse\n",
    "import uvicorn\n",
    "from fastapi import FastAPI\n",
    "from threading import Thread\n",
    "from pydantic import BaseModel"
   ]
  },
  {
   "cell_type": "code",
   "execution_count": 109,
   "id": "f5eac8e8-8016-4994-a3e1-9567b7d538a3",
   "metadata": {},
   "outputs": [],
   "source": [
    "conn = sqlite3.connect(\"sa_khalifah.db\")"
   ]
  },
  {
   "cell_type": "code",
   "execution_count": 110,
   "id": "6be32305-521b-4ac5-8f78-4a3a283d5bf2",
   "metadata": {},
   "outputs": [
    {
     "data": {
      "text/plain": [
       "<sqlite3.Cursor at 0x15e54ebd7c0>"
      ]
     },
     "execution_count": 110,
     "metadata": {},
     "output_type": "execute_result"
    }
   ],
   "source": [
    "sqlite3.connect(\"sa_khalifah.db\").cursor()"
   ]
  },
  {
   "cell_type": "code",
   "execution_count": 111,
   "id": "71c4d79d-4dfd-4452-8bac-3db917c00800",
   "metadata": {},
   "outputs": [],
   "source": [
    "# cursor.execute('''\n",
    "#     CREATE TABLE IF NOT EXISTS doctor (\n",
    "#         id INTEGER PRIMARY KEY,\n",
    "#         name TEXT NOT NULL,\n",
    "#         email TEXT UNIQUE NOT NULL\n",
    "#     )\n",
    "# ''')"
   ]
  },
  {
   "cell_type": "code",
   "execution_count": 112,
   "id": "7f8190d5-7d85-4bf1-a131-a873745f053b",
   "metadata": {},
   "outputs": [],
   "source": [
    "class Doctor(BaseModel):\n",
    "    name: str\n",
    "    email: str"
   ]
  },
  {
   "cell_type": "code",
   "execution_count": 113,
   "id": "3b043b22-940a-43b8-948e-ccd9d8fd0b02",
   "metadata": {},
   "outputs": [],
   "source": [
    "doc1 = Doctor(name='sareh', email='skin')"
   ]
  },
  {
   "cell_type": "code",
   "execution_count": 114,
   "id": "6c90c3ec-5193-4fc1-8c96-0b56a1e42a56",
   "metadata": {},
   "outputs": [],
   "source": [
    "from typing import List, Tuple\n",
    "def CreateDoctor(doctorObject: Doctor) -> List[Tuple]:\n",
    "    result = None  \n",
    "    with sqlite3.connect('Sarah_Khalifah.db') as conn2:\n",
    "        cur = conn2.cursor()\n",
    "        try:\n",
    "            result = cur.execute(''' \n",
    "                    INSERT INTO doctor(name, email) VALUES (?, ?)\n",
    "                    ''', (doctorObject.name, doctorObject.email))\n",
    "            conn2.commit()  # Commit the transaction to save changes\n",
    "        except Exception as e:\n",
    "            print(f'Exception error: {e}')\n",
    "        finally:\n",
    "            print('finally success')\n",
    "    return result.fetchall() if result else []"
   ]
  },
  {
   "cell_type": "code",
   "execution_count": 115,
   "id": "1c9afdba-feba-49d9-a7ec-b15800ab6243",
   "metadata": {},
   "outputs": [],
   "source": [
    "def ReadDoctor() -> list[tuple]:\n",
    "    with sqlite3.connect('Sarah_Khalifah.db') as conn2:\n",
    "        cur = conn2.cursor()\n",
    "        try:\n",
    "            result = cur.execute(''' \n",
    "                    select * from doctor\n",
    "                    ''')\n",
    "            return result.fetchall()\n",
    "        except Exception as a :\n",
    "            print(f'Eception error{a}')\n",
    "        finally:\n",
    "            print('finally sucess')\n",
    "        \n",
    "        "
   ]
  },
  {
   "cell_type": "code",
   "execution_count": 116,
   "id": "261b7aaa-0939-40ef-8be5-81445d805c2a",
   "metadata": {},
   "outputs": [
    {
     "name": "stdout",
     "output_type": "stream",
     "text": [
      "Exception error: UNIQUE constraint failed: doctor.email\n",
      "finally success\n",
      "finally sucess\n"
     ]
    },
    {
     "data": {
      "text/plain": [
       "[(1, 'Sarah', 'Sarah@we'), (2, 'sareh', 'skin')]"
      ]
     },
     "execution_count": 116,
     "metadata": {},
     "output_type": "execute_result"
    }
   ],
   "source": [
    "CreateDoctor(doc1)\n",
    "ReadDoctor()"
   ]
  },
  {
   "cell_type": "code",
   "execution_count": 117,
   "id": "844718f5-c2ef-4cd6-a0f1-ece8ce2cb18d",
   "metadata": {},
   "outputs": [
    {
     "name": "stdout",
     "output_type": "stream",
     "text": [
      "finally success\n"
     ]
    },
    {
     "data": {
      "text/plain": [
       "[]"
      ]
     },
     "execution_count": 117,
     "metadata": {},
     "output_type": "execute_result"
    }
   ],
   "source": [
    "doc2 = Doctor(name='mohammed',email='mohammed@fff')\n",
    "doc3= Doctor(name='ali',email='ali@gmai')\n",
    "CreateDoctor(doc2)"
   ]
  },
  {
   "cell_type": "code",
   "execution_count": 118,
   "id": "b059e70b-c919-4c1f-b9de-10bd89566070",
   "metadata": {},
   "outputs": [
    {
     "name": "stdout",
     "output_type": "stream",
     "text": [
      "finally sucess\n"
     ]
    },
    {
     "data": {
      "text/plain": [
       "[(1, 'Sarah', 'Sarah@we'),\n",
       " (2, 'sareh', 'skin'),\n",
       " (3, 'mohammed', 'mohammed@fff')]"
      ]
     },
     "execution_count": 118,
     "metadata": {},
     "output_type": "execute_result"
    }
   ],
   "source": [
    "ReadDoctor()"
   ]
  },
  {
   "cell_type": "code",
   "execution_count": 119,
   "id": "769a9239-0d6b-4f93-93ab-d7484d8461b5",
   "metadata": {},
   "outputs": [],
   "source": [
    "from typing import List, Tuple, Optional\n",
    "\n",
    "def ReadDoctorById(doctor_id: int) -> Optional[Tuple]:\n",
    "    with sqlite3.connect('Sarah_Khalifah.db') as conn2:\n",
    "        cur = conn2.cursor()\n",
    "        try:\n",
    "            result = cur.execute(''' \n",
    "                    SELECT * FROM doctor WHERE id = ?\n",
    "                    ''', (doctor_id,))\n",
    "            doctor = result.fetchone()  # fetchone() returns a single record\n",
    "            return doctor\n",
    "        except Exception as e:\n",
    "            print(f'Exception error: {e}')\n",
    "        finally:\n",
    "            print('finally success')\n"
   ]
  },
  {
   "cell_type": "code",
   "execution_count": 120,
   "id": "f3c241b2-b23e-49fd-bb01-ee5384aedbe7",
   "metadata": {},
   "outputs": [
    {
     "name": "stdout",
     "output_type": "stream",
     "text": [
      "finally success\n"
     ]
    }
   ],
   "source": [
    "ReadDoctorById(10)"
   ]
  },
  {
   "cell_type": "code",
   "execution_count": 121,
   "id": "3345c3da-8d6e-4570-a65f-e4eb1e49209e",
   "metadata": {},
   "outputs": [],
   "source": [
    "def DeleteDoctor(doctor_name: int) -> bool:\n",
    "    with sqlite3.connect('Sarah_Khalifah.db') as conn2:\n",
    "        cur = conn2.cursor()\n",
    "        try:\n",
    "            result = cur.execute('''\n",
    "                    DELETE FROM doctor WHERE name = ?\n",
    "                    ''', (doctor_name,))\n",
    "            conn2.commit()  # Commit the transaction to apply changes\n",
    "            if result.rowcount > 0:\n",
    "                print(f'Doctor with ID {doctor_name} deleted successfully.')\n",
    "                return True\n",
    "            else:\n",
    "                print(f'No doctor found with ID {doctor_name}.')\n",
    "                return False\n",
    "        except Exception as e:\n",
    "            print(f'Exception error: {e}')\n",
    "            return False\n",
    "        finally:\n",
    "            print('finally success')\n"
   ]
  },
  {
   "cell_type": "code",
   "execution_count": 122,
   "id": "2dc62984-9380-4137-bdd0-2139a86a7358",
   "metadata": {},
   "outputs": [
    {
     "name": "stdout",
     "output_type": "stream",
     "text": [
      "Doctor with ID mohammed deleted successfully.\n",
      "finally success\n"
     ]
    },
    {
     "data": {
      "text/plain": [
       "True"
      ]
     },
     "execution_count": 122,
     "metadata": {},
     "output_type": "execute_result"
    }
   ],
   "source": [
    "DeleteDoctor('mohammed')"
   ]
  },
  {
   "cell_type": "code",
   "execution_count": 123,
   "id": "48c5e0a6-2da9-45a7-8ac7-bc68dc22c0ac",
   "metadata": {},
   "outputs": [
    {
     "name": "stdout",
     "output_type": "stream",
     "text": [
      "finally sucess\n"
     ]
    },
    {
     "data": {
      "text/plain": [
       "[(1, 'Sarah', 'Sarah@we'), (2, 'sareh', 'skin')]"
      ]
     },
     "execution_count": 123,
     "metadata": {},
     "output_type": "execute_result"
    }
   ],
   "source": [
    "ReadDoctor()\n"
   ]
  },
  {
   "cell_type": "code",
   "execution_count": 124,
   "id": "9cc38089-8d14-40e7-9ff9-5aa8be3447fe",
   "metadata": {},
   "outputs": [],
   "source": [
    "def UpdateDoctor(doctor_id: int, name: str, email: str) -> bool:\n",
    "    with sqlite3.connect('Sarah_Khalifah.db') as conn2:\n",
    "        cur = conn2.cursor()\n",
    "        try:\n",
    "            result = cur.execute('''\n",
    "                    UPDATE doctor \n",
    "                    SET name = ?, email = ? \n",
    "                    WHERE id = ?\n",
    "                    ''', (name, email, doctor_id))\n",
    "            conn2.commit()  # Commit the transaction to apply changes\n",
    "            if result.rowcount > 0:\n",
    "                print(f'Doctor with ID {doctor_id} updated successfully.')\n",
    "                return True\n",
    "            else:\n",
    "                print(f'No doctor found with ID {doctor_id}.')\n",
    "                return False\n",
    "        except Exception as e:\n",
    "            print(f'Exception error: {e}')\n",
    "            return False\n",
    "        finally:\n",
    "            print('finally success')\n"
   ]
  },
  {
   "cell_type": "code",
   "execution_count": 125,
   "id": "c2f4ddbc-f79b-46be-aba3-2b2767bdebb1",
   "metadata": {},
   "outputs": [
    {
     "name": "stdout",
     "output_type": "stream",
     "text": [
      "Doctor with ID 1 updated successfully.\n",
      "finally success\n"
     ]
    },
    {
     "data": {
      "text/plain": [
       "True"
      ]
     },
     "execution_count": 125,
     "metadata": {},
     "output_type": "execute_result"
    }
   ],
   "source": [
    "UpdateDoctor(doctor_id=1, name='Sarah', email='Sarah@we')"
   ]
  },
  {
   "cell_type": "code",
   "execution_count": 126,
   "id": "b85c1a23-317e-4ad3-a9ae-4b1c81d1b27e",
   "metadata": {},
   "outputs": [
    {
     "name": "stdout",
     "output_type": "stream",
     "text": [
      "finally sucess\n"
     ]
    },
    {
     "data": {
      "text/plain": [
       "[(1, 'Sarah', 'Sarah@we'), (2, 'sareh', 'skin')]"
      ]
     },
     "execution_count": 126,
     "metadata": {},
     "output_type": "execute_result"
    }
   ],
   "source": [
    "ReadDoctor()"
   ]
  },
  {
   "cell_type": "code",
   "execution_count": 127,
   "id": "d4d50b02-b09c-4017-ad10-39a4d3af1189",
   "metadata": {},
   "outputs": [],
   "source": [
    "\n",
    "\n",
    "# Create FastAPI app\n",
    "app = FastAPI()\n",
    "\n",
    "# Your route with the API key check\n",
    "@app.get(\"/\")\n",
    "async def read_root(request: Request):\n",
    "    # Retrieve the API key from headers\n",
    "    return \"test page\"\n",
    "    \n",
    "# Your route with the API key check\n",
    "@app.get(\"/testroot\")\n",
    "async def read_root(request: Request):\n",
    "    # Retrieve the API key from headers\n",
    "    api_key = request.headers.get(\"testKey\")\n",
    "    \n",
    "    # The correct API key (you can change this to a more secure value or environment variable)\n",
    "    expected_api_key = \"123\"\n",
    "    \n",
    "    # Check if the API key is valid\n",
    "    if api_key != expected_api_key:\n",
    "        raise HTTPException(status_code=401, detail=\"Unauthorized access - Invalid API Key\")\n",
    "    \n",
    "    # If valid, return the table info\n",
    "    return ReadDoctor()\n",
    "\n",
    "\n",
    "@app.post(\"/create_doctor/\")\n",
    "async def create_item(doc3: Doctor):\n",
    "    return CreateDoctor(doctorObject=doc3)"
   ]
  },
  {
   "cell_type": "code",
   "execution_count": 128,
   "id": "48d2b564-3c3a-4aa8-b140-b427349f2b4a",
   "metadata": {},
   "outputs": [
    {
     "name": "stderr",
     "output_type": "stream",
     "text": [
      "INFO:     Started server process [15364]\n",
      "INFO:     Waiting for application startup.\n",
      "INFO:     Application startup complete.\n",
      "ERROR:    [Errno 10048] error while attempting to bind on address ('127.0.0.1', 8000): only one usage of each socket address (protocol/network address/port) is normally permitted\n",
      "INFO:     Waiting for application shutdown.\n",
      "INFO:     Application shutdown complete.\n"
     ]
    }
   ],
   "source": [
    "\n",
    "# Define a function to run the Uvicorn server\n",
    "def run_uvicorn():\n",
    "    uvicorn.run(app, host=\"127.0.0.1\", port=8000)\n",
    "\n",
    "# Run Uvicorn in a separate thread\n",
    "server_thread = Thread(target=run_uvicorn)\n",
    "server_thread.start()\n"
   ]
  },
  {
   "cell_type": "code",
   "execution_count": null,
   "id": "4eb759b7-5f71-4c26-969e-2e2ceee1165a",
   "metadata": {},
   "outputs": [],
   "source": []
  }
 ],
 "metadata": {
  "kernelspec": {
   "display_name": "Python 3 (ipykernel)",
   "language": "python",
   "name": "python3"
  },
  "language_info": {
   "codemirror_mode": {
    "name": "ipython",
    "version": 3
   },
   "file_extension": ".py",
   "mimetype": "text/x-python",
   "name": "python",
   "nbconvert_exporter": "python",
   "pygments_lexer": "ipython3",
   "version": "3.10.0"
  }
 },
 "nbformat": 4,
 "nbformat_minor": 5
}
