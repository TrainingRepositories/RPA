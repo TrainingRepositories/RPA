{
 "cells": [
  {
   "cell_type": "code",
   "execution_count": 6,
   "id": "72614aee-1026-41c8-a0ef-04ac483be79f",
   "metadata": {},
   "outputs": [
    {
     "name": "stdout",
     "output_type": "stream",
     "text": [
      "[2, 4, 6]\n"
     ]
    }
   ],
   "source": [
    "#filter to get only the even numbers with lambda :\n",
    "nums = [ 1 ,2 ,3 ,4 ,5 ,6]\n",
    "even_nums = list(filter(lambda x: x % 2 == 0, nums))\n",
    "print (even_nums)"
   ]
  },
  {
   "cell_type": "code",
   "execution_count": 11,
   "id": "2eeba44c-14e6-4e18-963e-805c268bff82",
   "metadata": {},
   "outputs": [
    {
     "name": "stdout",
     "output_type": "stream",
     "text": [
      "0: sara\n",
      "1: mohammed\n",
      "2: Lna\n"
     ]
    }
   ],
   "source": [
    "#use enumerate () to names\n",
    "names ={ 1: 'sara' , 2: 'mohammed' , 3: 'Lna'}\n",
    "for nums , names in enumerate(names.values()):\n",
    "      print(f\"{nums}: {names}\")"
   ]
  },
  {
   "cell_type": "code",
   "execution_count": 18,
   "id": "094afabf-6689-4dfc-bc77-ee3042a1dc55",
   "metadata": {},
   "outputs": [
    {
     "name": "stdout",
     "output_type": "stream",
     "text": [
      "{'Pen', 'Book', 'Calculater'}\n"
     ]
    }
   ],
   "source": [
    "# to split items in text\n",
    "items_text = \" Pen Book Calculater Pen \"\n",
    "items= set(items_text.split())\n",
    "print(items)"
   ]
  },
  {
   "cell_type": "code",
   "execution_count": null,
   "id": "1cf4435f-9098-44ca-a0b9-c05f7463a3c2",
   "metadata": {},
   "outputs": [],
   "source": []
  }
 ],
 "metadata": {
  "kernelspec": {
   "display_name": "Python 3 (ipykernel)",
   "language": "python",
   "name": "python3"
  },
  "language_info": {
   "codemirror_mode": {
    "name": "ipython",
    "version": 3
   },
   "file_extension": ".py",
   "mimetype": "text/x-python",
   "name": "python",
   "nbconvert_exporter": "python",
   "pygments_lexer": "ipython3",
   "version": "3.10.0"
  }
 },
 "nbformat": 4,
 "nbformat_minor": 5
}
