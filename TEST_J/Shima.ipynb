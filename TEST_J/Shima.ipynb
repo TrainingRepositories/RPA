{
 "cells": [
  {
   "cell_type": "code",
   "execution_count": 59,
   "id": "72614aee-1026-41c8-a0ef-04ac483be79f",
   "metadata": {},
   "outputs": [
    {
     "name": "stdout",
     "output_type": "stream",
     "text": [
      "[2, 4, 6]\n"
     ]
    }
   ],
   "source": [
    "#filter to get only the even numbers with lambda :\n",
    "nums = [ 1 ,2 ,3 ,4 ,5 ,6]\n",
    "even_nums = list(filter(lambda x: x % 2 == 0, nums))\n",
    "print (even_nums)"
   ]
  },
  {
   "cell_type": "code",
   "execution_count": 60,
   "id": "2eeba44c-14e6-4e18-963e-805c268bff82",
   "metadata": {},
   "outputs": [
    {
     "name": "stdout",
     "output_type": "stream",
     "text": [
      "0: sara\n",
      "1: mohammed\n",
      "2: Lna\n"
     ]
    }
   ],
   "source": [
    "#use enumerate () to names\n",
    "names ={ 1: 'sara' , 2: 'mohammed' , 3: 'Lna'}\n",
    "for nums , names in enumerate(names.values()):\n",
    "      print(f\"{nums}: {names}\")"
   ]
  },
  {
   "cell_type": "code",
   "execution_count": 61,
   "id": "094afabf-6689-4dfc-bc77-ee3042a1dc55",
   "metadata": {},
   "outputs": [
    {
     "name": "stdout",
     "output_type": "stream",
     "text": [
      "{'Calculater', 'Book', 'Pen'}\n"
     ]
    }
   ],
   "source": [
    "# to split items in text\n",
    "items_text = \" Pen Book Calculater Pen \"\n",
    "items= set(items_text.split())\n",
    "print(items)"
   ]
  },
  {
   "cell_type": "code",
   "execution_count": 7,
   "id": "1cf4435f-9098-44ca-a0b9-c05f7463a3c2",
   "metadata": {},
   "outputs": [],
   "source": [
    "import sqlite3\n",
    "from fastapi import FastAPI\n",
    "import uvicorn\n",
    "from threading import Thread\n",
    "app = FastAPI()"
   ]
  },
  {
   "cell_type": "code",
   "execution_count": 63,
   "id": "6ec17560-82f8-4322-bcf1-e4a3f885fe34",
   "metadata": {},
   "outputs": [],
   "source": [
    "conn = sqlite3.connect('traineing.db')\n",
    "cursor = conn.cursor()\n"
   ]
  },
  {
   "cell_type": "code",
   "execution_count": 64,
   "id": "7cf79c8d-e05a-41bf-9eb1-4b9bdeb2bdba",
   "metadata": {},
   "outputs": [
    {
     "data": {
      "text/plain": [
       "<sqlite3.Cursor at 0x109b9c1c0>"
      ]
     },
     "execution_count": 64,
     "metadata": {},
     "output_type": "execute_result"
    }
   ],
   "source": [
    "cursor.execute( '''\n",
    "     CREATE TABLE IF NOT EXISTS trainers(\n",
    "     id INTEGER PRIMARY KEY,\n",
    "     name TEXT NOT NULL,\n",
    "     email TEXT UNIQUE NOT NULL\n",
    "    )\n",
    "''')"
   ]
  },
  {
   "cell_type": "code",
   "execution_count": 65,
   "id": "6985c97f-cce2-4a37-adf5-7065a8db1ec8",
   "metadata": {},
   "outputs": [],
   "source": [
    "def InsertData(name:str, email:str):\n",
    "    with sqlite3.connect('traineing.db') as conn2:\n",
    "         cursor = conn2.cursor()\n",
    "         try:\n",
    "              cursor.execute('''\n",
    "             INSERT INTO trainers (name, email) VALUES (?, ?)\n",
    "              ''', (name, email))\n",
    "              conn2.commit()\n",
    "         except Exception as e:\n",
    "              print(f\"Exception error {e}\")\n",
    "         else:\n",
    "              print(\"insert sucssfily\")\n",
    "         finally:\n",
    "             print(\"finally excuted\")\n"
   ]
  },
  {
   "cell_type": "code",
   "execution_count": 77,
   "id": "07199d11-fb81-4f6a-9f23-7f231fccefe2",
   "metadata": {
    "scrolled": true
   },
   "outputs": [
    {
     "name": "stdout",
     "output_type": "stream",
     "text": [
      "insert sucssfily\n",
      "finally excuted\n"
     ]
    }
   ],
   "source": [
    "InsertData(name='Fahad2',email='ah1235@gmail.com')"
   ]
  },
  {
   "cell_type": "code",
   "execution_count": 67,
   "id": "022efd5f-eae0-4242-a64a-6e69571e1152",
   "metadata": {},
   "outputs": [],
   "source": [
    "def UbdatetData(new_name:str ,name:str):\n",
    "    with sqlite3.connect('traineing.db') as conn2:\n",
    "         cursor = conn2.cursor()\n",
    "         try:\n",
    "              cursor.execute('''\n",
    "             UPDATE trainers SET name = ?\n",
    "              WHERE name = ?\n",
    "              ''', (new_name, name))\n",
    "              conn2.commit()\n",
    "         except Exception as e:\n",
    "              print(f\"Exception error {e}\")\n",
    "         else:\n",
    "              print(\"Ubdate sucssfily\")\n",
    "         finally:\n",
    "             print(\"finally excuted\")\n"
   ]
  },
  {
   "cell_type": "code",
   "execution_count": 76,
   "id": "a694a352-ff5a-40ea-9b1c-5c37aabd1b36",
   "metadata": {},
   "outputs": [
    {
     "name": "stdout",
     "output_type": "stream",
     "text": [
      "Ubdate sucssfily\n",
      "finally excuted\n"
     ]
    }
   ],
   "source": [
    "UbdatetData(new_name=\"Fahad\",name=\"Ahmed\")"
   ]
  },
  {
   "cell_type": "code",
   "execution_count": 71,
   "id": "cf3f9a9d-7767-4374-9d23-339c7eae183c",
   "metadata": {},
   "outputs": [],
   "source": [
    "def DeleteData(name:str):\n",
    "    with sqlite3.connect('traineing.db') as conn2:\n",
    "         cursor = conn2.cursor()\n",
    "         try:\n",
    "              cursor.execute('''\n",
    "                DELETE FROM trainers\n",
    "                WHERE name = ?\n",
    "              ''', (name,))\n",
    "              conn2.commit()\n",
    "         except Exception as e:\n",
    "              print(f\"Exception error {e}\")\n",
    "         else:\n",
    "              print(\"Delete sucssfily\")\n",
    "         finally:\n",
    "             print(\"finally excuted\")\n"
   ]
  },
  {
   "cell_type": "code",
   "execution_count": 78,
   "id": "59ca36a4-5358-44ed-af81-190386c70244",
   "metadata": {},
   "outputs": [
    {
     "name": "stdout",
     "output_type": "stream",
     "text": [
      "Delete sucssfily\n",
      "finally excuted\n"
     ]
    }
   ],
   "source": [
    "DeleteData(name=\"Fahad\")"
   ]
  },
  {
   "cell_type": "code",
   "execution_count": 3,
   "id": "389b4708-e948-4103-a630-198777644874",
   "metadata": {},
   "outputs": [],
   "source": [
    "@app.get('/returnfromAPI')\n",
    "def ReturneData():\n",
    "    with sqlite3.connect('traineing.db') as conn2:\n",
    "         cursor = conn2.cursor()\n",
    "         try:\n",
    "              result= cursor.execute('''\n",
    "               select * from trainers\n",
    "              ''',)\n",
    "              return result\n",
    "              conn2.commit()\n",
    "         except Exception as e:\n",
    "              print(f\"Exception error {e}\")\n",
    "         else:\n",
    "              print(\"return sucssfily\")\n",
    "         finally:\n",
    "             print(\"finally excuted\")\n"
   ]
  },
  {
   "cell_type": "code",
   "execution_count": 82,
   "id": "785653a4-b5ca-477f-8116-3e2829609364",
   "metadata": {},
   "outputs": [
    {
     "name": "stdout",
     "output_type": "stream",
     "text": [
      "finally excuted\n"
     ]
    },
    {
     "data": {
      "text/plain": [
       "[(1, 'mohammed', 'moh123@gmail.com'), (5, 'Fahad2', 'ah1235@gmail.com')]"
      ]
     },
     "execution_count": 82,
     "metadata": {},
     "output_type": "execute_result"
    }
   ],
   "source": [
    "Data=ReturneData()\n",
    "Data.fetchall()"
   ]
  },
  {
   "cell_type": "code",
   "execution_count": 10,
   "id": "9047e61d-1543-411f-9b77-2455aac69eb3",
   "metadata": {},
   "outputs": [
    {
     "name": "stderr",
     "output_type": "stream",
     "text": [
      "INFO:     Started server process [1186]\n",
      "INFO:     Waiting for application startup.\n",
      "INFO:     Application startup complete.\n",
      "INFO:     Uvicorn running on http://127.0.0.1:8000 (Press CTRL+C to quit)\n"
     ]
    },
    {
     "name": "stdout",
     "output_type": "stream",
     "text": [
      "INFO:     127.0.0.1:50154 - \"GET / HTTP/1.1\" 404 Not Found\n",
      "INFO:     127.0.0.1:50154 - \"GET /favicon.ico HTTP/1.1\" 404 Not Found\n",
      "INFO:     127.0.0.1:50155 - \"GET /docs HTTP/1.1\" 200 OK\n",
      "INFO:     127.0.0.1:50155 - \"GET /openapi.json HTTP/1.1\" 200 OK\n"
     ]
    },
    {
     "name": "stderr",
     "output_type": "stream",
     "text": [
      "/Users/admnalm/PRA_TRAINING/RPA/.env/lib/python3.10/site-packages/fastapi/openapi/utils.py:225: UserWarning: Duplicate Operation ID read_root_testroot_get for function read_root\n",
      "  warnings.warn(message, stacklevel=1)\n"
     ]
    },
    {
     "name": "stdout",
     "output_type": "stream",
     "text": [
      "finally excuted\n",
      "INFO:     127.0.0.1:50156 - \"GET /testroot HTTP/1.1\" 500 Internal Server Error\n"
     ]
    },
    {
     "name": "stderr",
     "output_type": "stream",
     "text": [
      "ERROR:    Exception in ASGI application\n",
      "Traceback (most recent call last):\n",
      "  File \"/Users/admnalm/PRA_TRAINING/RPA/.env/lib/python3.10/site-packages/fastapi/encoders.py\", line 324, in jsonable_encoder\n",
      "    data = dict(obj)\n",
      "sqlite3.ProgrammingError: SQLite objects created in a thread can only be used in that same thread. The object was created in thread id 123145647972352 and this is thread id 123145631182848.\n",
      "\n",
      "During handling of the above exception, another exception occurred:\n",
      "\n",
      "Traceback (most recent call last):\n",
      "  File \"/Users/admnalm/PRA_TRAINING/RPA/.env/lib/python3.10/site-packages/fastapi/encoders.py\", line 329, in jsonable_encoder\n",
      "    data = vars(obj)\n",
      "TypeError: vars() argument must have __dict__ attribute\n",
      "\n",
      "The above exception was the direct cause of the following exception:\n",
      "\n",
      "Traceback (most recent call last):\n",
      "  File \"/Users/admnalm/PRA_TRAINING/RPA/.env/lib/python3.10/site-packages/uvicorn/protocols/http/h11_impl.py\", line 406, in run_asgi\n",
      "    result = await app(  # type: ignore[func-returns-value]\n",
      "  File \"/Users/admnalm/PRA_TRAINING/RPA/.env/lib/python3.10/site-packages/uvicorn/middleware/proxy_headers.py\", line 60, in __call__\n",
      "    return await self.app(scope, receive, send)\n",
      "  File \"/Users/admnalm/PRA_TRAINING/RPA/.env/lib/python3.10/site-packages/fastapi/applications.py\", line 1054, in __call__\n",
      "    await super().__call__(scope, receive, send)\n",
      "  File \"/Users/admnalm/PRA_TRAINING/RPA/.env/lib/python3.10/site-packages/starlette/applications.py\", line 113, in __call__\n",
      "    await self.middleware_stack(scope, receive, send)\n",
      "  File \"/Users/admnalm/PRA_TRAINING/RPA/.env/lib/python3.10/site-packages/starlette/middleware/errors.py\", line 187, in __call__\n",
      "    raise exc\n",
      "  File \"/Users/admnalm/PRA_TRAINING/RPA/.env/lib/python3.10/site-packages/starlette/middleware/errors.py\", line 165, in __call__\n",
      "    await self.app(scope, receive, _send)\n",
      "  File \"/Users/admnalm/PRA_TRAINING/RPA/.env/lib/python3.10/site-packages/starlette/middleware/exceptions.py\", line 62, in __call__\n",
      "    await wrap_app_handling_exceptions(self.app, conn)(scope, receive, send)\n",
      "  File \"/Users/admnalm/PRA_TRAINING/RPA/.env/lib/python3.10/site-packages/starlette/_exception_handler.py\", line 53, in wrapped_app\n",
      "    raise exc\n",
      "  File \"/Users/admnalm/PRA_TRAINING/RPA/.env/lib/python3.10/site-packages/starlette/_exception_handler.py\", line 42, in wrapped_app\n",
      "    await app(scope, receive, sender)\n",
      "  File \"/Users/admnalm/PRA_TRAINING/RPA/.env/lib/python3.10/site-packages/starlette/routing.py\", line 715, in __call__\n",
      "    await self.middleware_stack(scope, receive, send)\n",
      "  File \"/Users/admnalm/PRA_TRAINING/RPA/.env/lib/python3.10/site-packages/starlette/routing.py\", line 735, in app\n",
      "    await route.handle(scope, receive, send)\n",
      "  File \"/Users/admnalm/PRA_TRAINING/RPA/.env/lib/python3.10/site-packages/starlette/routing.py\", line 288, in handle\n",
      "    await self.app(scope, receive, send)\n",
      "  File \"/Users/admnalm/PRA_TRAINING/RPA/.env/lib/python3.10/site-packages/starlette/routing.py\", line 76, in app\n",
      "    await wrap_app_handling_exceptions(app, request)(scope, receive, send)\n",
      "  File \"/Users/admnalm/PRA_TRAINING/RPA/.env/lib/python3.10/site-packages/starlette/_exception_handler.py\", line 53, in wrapped_app\n",
      "    raise exc\n",
      "  File \"/Users/admnalm/PRA_TRAINING/RPA/.env/lib/python3.10/site-packages/starlette/_exception_handler.py\", line 42, in wrapped_app\n",
      "    await app(scope, receive, sender)\n",
      "  File \"/Users/admnalm/PRA_TRAINING/RPA/.env/lib/python3.10/site-packages/starlette/routing.py\", line 73, in app\n",
      "    response = await f(request)\n",
      "  File \"/Users/admnalm/PRA_TRAINING/RPA/.env/lib/python3.10/site-packages/fastapi/routing.py\", line 327, in app\n",
      "    content = await serialize_response(\n",
      "  File \"/Users/admnalm/PRA_TRAINING/RPA/.env/lib/python3.10/site-packages/fastapi/routing.py\", line 201, in serialize_response\n",
      "    return jsonable_encoder(response_content)\n",
      "  File \"/Users/admnalm/PRA_TRAINING/RPA/.env/lib/python3.10/site-packages/fastapi/encoders.py\", line 332, in jsonable_encoder\n",
      "    raise ValueError(errors) from e\n",
      "ValueError: [ProgrammingError('SQLite objects created in a thread can only be used in that same thread. The object was created in thread id 123145647972352 and this is thread id 123145631182848.'), TypeError('vars() argument must have __dict__ attribute')]\n"
     ]
    }
   ],
   "source": [
    "@app.get('/testroot')\n",
    "def read_root():\n",
    "    return ReturneData()\n",
    "def run_uvicorn():\n",
    "    uvicorn.run(app, host='127.0.0.1', port=8000)\n",
    "server_thread=Thread(target=run_uvicorn)\n",
    "server_thread.start()"
   ]
  },
  {
   "cell_type": "code",
   "execution_count": 4,
   "id": "8e21d203-a608-43d4-8669-ea7a83c9566d",
   "metadata": {},
   "outputs": [],
   "source": []
  },
  {
   "cell_type": "code",
   "execution_count": null,
   "id": "c52cd31a-ca28-4f2b-95f2-e95b1f84954b",
   "metadata": {},
   "outputs": [],
   "source": []
  }
 ],
 "metadata": {
  "kernelspec": {
   "display_name": "Python 3 (ipykernel)",
   "language": "python",
   "name": "python3"
  },
  "language_info": {
   "codemirror_mode": {
    "name": "ipython",
    "version": 3
   },
   "file_extension": ".py",
   "mimetype": "text/x-python",
   "name": "python",
   "nbconvert_exporter": "python",
   "pygments_lexer": "ipython3",
   "version": "3.10.0"
  }
 },
 "nbformat": 4,
 "nbformat_minor": 5
}
