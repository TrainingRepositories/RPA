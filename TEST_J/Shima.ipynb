{
 "cells": [
  {
   "cell_type": "code",
   "execution_count": 1,
   "id": "72614aee-1026-41c8-a0ef-04ac483be79f",
   "metadata": {},
   "outputs": [
    {
     "name": "stdout",
     "output_type": "stream",
     "text": [
      "[2, 4, 6]\n"
     ]
    }
   ],
   "source": [
    "#filter to get only the even numbers with lambda :\n",
    "nums = [ 1 ,2 ,3 ,4 ,5 ,6]\n",
    "even_nums = list(filter(lambda x: x % 2 == 0, nums))\n",
    "print (even_nums)"
   ]
  },
  {
   "cell_type": "code",
   "execution_count": 2,
   "id": "2eeba44c-14e6-4e18-963e-805c268bff82",
   "metadata": {},
   "outputs": [
    {
     "name": "stdout",
     "output_type": "stream",
     "text": [
      "0: sara\n",
      "1: mohammed\n",
      "2: Lna\n"
     ]
    }
   ],
   "source": [
    "#use enumerate () to names\n",
    "names ={ 1: 'sara' , 2: 'mohammed' , 3: 'Lna'}\n",
    "for nums , names in enumerate(names.values()):\n",
    "      print(f\"{nums}: {names}\")"
   ]
  },
  {
   "cell_type": "code",
   "execution_count": 3,
   "id": "094afabf-6689-4dfc-bc77-ee3042a1dc55",
   "metadata": {},
   "outputs": [
    {
     "name": "stdout",
     "output_type": "stream",
     "text": [
      "{'Book', 'Pen', 'Calculater'}\n"
     ]
    }
   ],
   "source": [
    "# to split items in text\n",
    "items_text = \" Pen Book Calculater Pen \"\n",
    "items= set(items_text.split())\n",
    "print(items)"
   ]
  },
  {
   "cell_type": "code",
   "execution_count": 4,
   "id": "1cf4435f-9098-44ca-a0b9-c05f7463a3c2",
   "metadata": {},
   "outputs": [],
   "source": [
    "import sqlite3\n",
    "from fastapi import FastAPI\n",
    "import uvicorn\n",
    "from threading import Thread\n",
    "app = FastAPI()"
   ]
  },
  {
   "cell_type": "code",
   "execution_count": 5,
   "id": "6ec17560-82f8-4322-bcf1-e4a3f885fe34",
   "metadata": {},
   "outputs": [],
   "source": [
    "conn = sqlite3.connect('traineing.db')\n",
    "cursor = conn.cursor()\n"
   ]
  },
  {
   "cell_type": "code",
   "execution_count": 6,
   "id": "7cf79c8d-e05a-41bf-9eb1-4b9bdeb2bdba",
   "metadata": {},
   "outputs": [
    {
     "data": {
      "text/plain": [
       "<sqlite3.Cursor at 0x10a3d55c0>"
      ]
     },
     "execution_count": 6,
     "metadata": {},
     "output_type": "execute_result"
    }
   ],
   "source": [
    "cursor.execute( '''\n",
    "     CREATE TABLE IF NOT EXISTS trainers(\n",
    "     id INTEGER PRIMARY KEY,\n",
    "     name TEXT NOT NULL,\n",
    "     email TEXT UNIQUE NOT NULL\n",
    "    )\n",
    "''')"
   ]
  },
  {
   "cell_type": "code",
   "execution_count": 7,
   "id": "6985c97f-cce2-4a37-adf5-7065a8db1ec8",
   "metadata": {},
   "outputs": [],
   "source": [
    "@app.post('/postAPI')\n",
    "def InsertData(name:str, email:str):\n",
    "    with sqlite3.connect('traineing.db') as conn2:\n",
    "         cursor = conn2.cursor()\n",
    "         try:\n",
    "              cursor.execute('''\n",
    "             INSERT INTO trainers (name, email) VALUES (?, ?)\n",
    "              ''', (name, email))\n",
    "              conn2.commit()\n",
    "         except Exception as e:\n",
    "              print(f\"Exception error {e}\")\n",
    "         else:\n",
    "              print(\"insert sucssfily\")\n",
    "         finally:\n",
    "             print(\"finally excuted\")\n"
   ]
  },
  {
   "cell_type": "code",
   "execution_count": 8,
   "id": "07199d11-fb81-4f6a-9f23-7f231fccefe2",
   "metadata": {
    "scrolled": true
   },
   "outputs": [
    {
     "name": "stdout",
     "output_type": "stream",
     "text": [
      "Exception error UNIQUE constraint failed: trainers.email\n",
      "finally excuted\n"
     ]
    }
   ],
   "source": [
    "InsertData(name='Fahad2',email='ah1235@gmail.com')"
   ]
  },
  {
   "cell_type": "code",
   "execution_count": 9,
   "id": "022efd5f-eae0-4242-a64a-6e69571e1152",
   "metadata": {},
   "outputs": [],
   "source": [
    "@app.put('/UbdateAPI')\n",
    "def UbdatetData(new_name:str ,name:str):\n",
    "    with sqlite3.connect('traineing.db') as conn2:\n",
    "         cursor = conn2.cursor()\n",
    "         try:\n",
    "              cursor.execute('''\n",
    "             UPDATE trainers SET name = ?\n",
    "              WHERE name = ?\n",
    "              ''', (new_name, name))\n",
    "              conn2.commit()\n",
    "         except Exception as e:\n",
    "              print(f\"Exception error {e}\")\n",
    "         else:\n",
    "              print(\"Ubdate sucssfily\")\n",
    "         finally:\n",
    "             print(\"finally excuted\")\n"
   ]
  },
  {
   "cell_type": "code",
   "execution_count": 10,
   "id": "a694a352-ff5a-40ea-9b1c-5c37aabd1b36",
   "metadata": {},
   "outputs": [
    {
     "name": "stdout",
     "output_type": "stream",
     "text": [
      "Ubdate sucssfily\n",
      "finally excuted\n"
     ]
    }
   ],
   "source": [
    "UbdatetData(new_name=\"Fahad\",name=\"Ahmed\")"
   ]
  },
  {
   "cell_type": "code",
   "execution_count": 11,
   "id": "cf3f9a9d-7767-4374-9d23-339c7eae183c",
   "metadata": {},
   "outputs": [],
   "source": [
    "@app.delete('/DeleteAPI')\n",
    "def DeleteData(name:str):\n",
    "    with sqlite3.connect('traineing.db') as conn2:\n",
    "         cursor = conn2.cursor()\n",
    "         try:\n",
    "              cursor.execute('''\n",
    "                DELETE FROM trainers\n",
    "                WHERE name = ?\n",
    "              ''', (name,))\n",
    "              conn2.commit()\n",
    "         except Exception as e:\n",
    "              print(f\"Exception error {e}\")\n",
    "         else:\n",
    "              print(\"Delete sucssfily\")\n",
    "         finally:\n",
    "             print(\"finally excuted\")\n"
   ]
  },
  {
   "cell_type": "code",
   "execution_count": 12,
   "id": "59ca36a4-5358-44ed-af81-190386c70244",
   "metadata": {},
   "outputs": [
    {
     "name": "stdout",
     "output_type": "stream",
     "text": [
      "Delete sucssfily\n",
      "finally excuted\n"
     ]
    }
   ],
   "source": [
    "DeleteData(name=\"Fahad\")"
   ]
  },
  {
   "cell_type": "code",
   "execution_count": 13,
   "id": "389b4708-e948-4103-a630-198777644874",
   "metadata": {},
   "outputs": [],
   "source": [
    "@app.get('/returnfromAPI')\n",
    "def ReturneData():\n",
    "    with sqlite3.connect('traineing.db') as conn2:\n",
    "         cursor = conn2.cursor()\n",
    "         try:\n",
    "              result= cursor.execute('''\n",
    "               select * from trainers\n",
    "              ''',)\n",
    "              return result.fetchall()\n",
    "         except Exception as e:\n",
    "              print(f\"Exception error {e}\")\n",
    "         else:\n",
    "              print(\"return sucssfily\")\n",
    "         finally:\n",
    "             print(\"finally excuted\")\n"
   ]
  },
  {
   "cell_type": "code",
   "execution_count": 14,
   "id": "785653a4-b5ca-477f-8116-3e2829609364",
   "metadata": {},
   "outputs": [],
   "source": [
    "#Data=ReturneData()\n",
    "#Data.fetchall()"
   ]
  },
  {
   "cell_type": "code",
   "execution_count": 15,
   "id": "9047e61d-1543-411f-9b77-2455aac69eb3",
   "metadata": {},
   "outputs": [
    {
     "name": "stderr",
     "output_type": "stream",
     "text": [
      "INFO:     Started server process [1649]\n",
      "INFO:     Waiting for application startup.\n",
      "INFO:     Application startup complete.\n",
      "INFO:     Uvicorn running on http://127.0.0.1:8000 (Press CTRL+C to quit)\n"
     ]
    }
   ],
   "source": [
    "\n",
    "def run_uvicorn():\n",
    "    uvicorn.run(app, host='127.0.0.1', port=8000)\n",
    "server_thread=Thread(target=run_uvicorn)\n",
    "server_thread.start()"
   ]
  },
  {
   "cell_type": "code",
   "execution_count": null,
   "id": "8e21d203-a608-43d4-8669-ea7a83c9566d",
   "metadata": {},
   "outputs": [],
   "source": []
  },
  {
   "cell_type": "code",
   "execution_count": null,
   "id": "c52cd31a-ca28-4f2b-95f2-e95b1f84954b",
   "metadata": {},
   "outputs": [],
   "source": []
  }
 ],
 "metadata": {
  "kernelspec": {
   "display_name": "Python 3 (ipykernel)",
   "language": "python",
   "name": "python3"
  },
  "language_info": {
   "codemirror_mode": {
    "name": "ipython",
    "version": 3
   },
   "file_extension": ".py",
   "mimetype": "text/x-python",
   "name": "python",
   "nbconvert_exporter": "python",
   "pygments_lexer": "ipython3",
   "version": "3.10.0"
  }
 },
 "nbformat": 4,
 "nbformat_minor": 5
}
