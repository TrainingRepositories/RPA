{
 "cells": [
  {
   "cell_type": "markdown",
   "id": "f9b38b25-b222-4486-8ba7-7f3d23f77397",
   "metadata": {},
   "source": [
    "# Modules and Packages \n",
    "\n",
    "[notion](https://loud-iberis-61b.notion.site/Modules-and-Packages-12541d33cda98032a3c6faa84d62814f?pvs=4) |\n",
    "\n",
    "Created by Abdulwahab Alanazi\n",
    "\n",
    "[LinkedIn](http://linkedin.com/in/abdulwahabdev) | [GitHub](https://github.com/AbdulwahabDev)\n"
   ]
  },
  {
   "cell_type": "code",
   "execution_count": null,
   "id": "bbe15504-3f57-42ad-8dfe-927e95b51760",
   "metadata": {},
   "outputs": [],
   "source": []
  },
  {
   "cell_type": "code",
   "execution_count": 1,
   "id": "f410430a-0c3e-45f5-9831-a5eaff2caf9f",
   "metadata": {},
   "outputs": [
    {
     "name": "stdout",
     "output_type": "stream",
     "text": [
      "hi 1234\n"
     ]
    }
   ],
   "source": [
    "import module1"
   ]
  },
  {
   "cell_type": "code",
   "execution_count": null,
   "id": "29f573dd-e702-46dd-9bbb-dff1d3ebbe0a",
   "metadata": {},
   "outputs": [],
   "source": []
  },
  {
   "cell_type": "code",
   "execution_count": 3,
   "id": "104a3f3f-ee45-4934-bbc7-31bce9c0d0d7",
   "metadata": {},
   "outputs": [
    {
     "name": "stdout",
     "output_type": "stream",
     "text": [
      "hello Im from module1 _ func1\n"
     ]
    }
   ],
   "source": [
    "module1.func1()"
   ]
  },
  {
   "cell_type": "code",
   "execution_count": null,
   "id": "b1656b3c-f5ed-4914-ae93-a51addb3a950",
   "metadata": {},
   "outputs": [],
   "source": []
  },
  {
   "cell_type": "code",
   "execution_count": null,
   "id": "8bf8289f-6431-4cf5-ba12-12d7363a23e1",
   "metadata": {},
   "outputs": [],
   "source": []
  },
  {
   "cell_type": "code",
   "execution_count": 6,
   "id": "5fe57b1f-1a07-4c37-ad74-4bcf5751735f",
   "metadata": {},
   "outputs": [],
   "source": [
    "from mypackage import module2 as m2"
   ]
  },
  {
   "cell_type": "code",
   "execution_count": 7,
   "id": "bc9b294b-0e79-483d-82dd-46fe50ece0b5",
   "metadata": {},
   "outputs": [
    {
     "name": "stdout",
     "output_type": "stream",
     "text": [
      "hello Im from module2 _ func1\n"
     ]
    }
   ],
   "source": [
    "m2.func1()"
   ]
  },
  {
   "cell_type": "code",
   "execution_count": null,
   "id": "59b47168-437c-4dd9-b24e-96b6ba156ddb",
   "metadata": {},
   "outputs": [],
   "source": []
  },
  {
   "cell_type": "code",
   "execution_count": 2,
   "id": "605287c9-46cc-4e8a-bc43-fb5619db206e",
   "metadata": {},
   "outputs": [
    {
     "name": "stdout",
     "output_type": "stream",
     "text": [
      "hello Im from module1 _ func1\n"
     ]
    }
   ],
   "source": [
    "module1.func1()"
   ]
  },
  {
   "cell_type": "code",
   "execution_count": null,
   "id": "bed6827c-dd4e-4ef9-8a6d-dfe96ca6b482",
   "metadata": {},
   "outputs": [],
   "source": []
  },
  {
   "cell_type": "code",
   "execution_count": 4,
   "id": "ddf2c478-761b-42e1-9a30-d391fb54c0e0",
   "metadata": {},
   "outputs": [
    {
     "data": {
      "text/plain": [
       "123"
      ]
     },
     "execution_count": 4,
     "metadata": {},
     "output_type": "execute_result"
    }
   ],
   "source": [
    "module1.x"
   ]
  },
  {
   "cell_type": "code",
   "execution_count": null,
   "id": "6a288b16-35af-46b6-b5fa-94d0cbdb0f5f",
   "metadata": {},
   "outputs": [],
   "source": []
  },
  {
   "cell_type": "code",
   "execution_count": 5,
   "id": "085d7063-b1bc-43e6-a9b8-3b75b0dcfed3",
   "metadata": {},
   "outputs": [],
   "source": [
    "from mypackage import module2"
   ]
  },
  {
   "cell_type": "code",
   "execution_count": 6,
   "id": "1fb12d75-2cda-4c7f-b29d-25fe09cefac6",
   "metadata": {},
   "outputs": [
    {
     "name": "stdout",
     "output_type": "stream",
     "text": [
      "hello Im from module2 _ func1\n"
     ]
    }
   ],
   "source": [
    "module2.func1()"
   ]
  },
  {
   "cell_type": "code",
   "execution_count": null,
   "id": "b641ec92-60b6-4bff-983c-8a3b653e1b82",
   "metadata": {},
   "outputs": [],
   "source": []
  },
  {
   "cell_type": "code",
   "execution_count": null,
   "id": "a4befbe5-81c8-4432-a7b2-42a2f03b31de",
   "metadata": {},
   "outputs": [],
   "source": []
  },
  {
   "cell_type": "code",
   "execution_count": null,
   "id": "bddcc248-88ba-448e-8b72-63c957974a3e",
   "metadata": {},
   "outputs": [],
   "source": []
  },
  {
   "cell_type": "code",
   "execution_count": null,
   "id": "116cd2c9-c4e3-4c20-be30-02df36efcee4",
   "metadata": {},
   "outputs": [],
   "source": []
  }
 ],
 "metadata": {
  "kernelspec": {
   "display_name": "Python 3 (ipykernel)",
   "language": "python",
   "name": "python3"
  },
  "language_info": {
   "codemirror_mode": {
    "name": "ipython",
    "version": 3
   },
   "file_extension": ".py",
   "mimetype": "text/x-python",
   "name": "python",
   "nbconvert_exporter": "python",
   "pygments_lexer": "ipython3",
   "version": "3.10.14"
  }
 },
 "nbformat": 4,
 "nbformat_minor": 5
}
