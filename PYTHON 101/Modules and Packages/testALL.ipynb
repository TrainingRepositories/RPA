{
 "cells": [
  {
   "cell_type": "code",
   "execution_count": null,
   "id": "33025935-1fd5-49f6-bbe7-e5eba392624d",
   "metadata": {},
   "outputs": [],
   "source": []
  },
  {
   "cell_type": "code",
   "execution_count": null,
   "id": "5407b39b-d721-42e8-b5e4-f3d8f2edbdf5",
   "metadata": {},
   "outputs": [],
   "source": []
  },
  {
   "cell_type": "code",
   "execution_count": 8,
   "id": "d3cd1dcf-88f0-4b56-a522-28bdb6a0771b",
   "metadata": {},
   "outputs": [],
   "source": [
    "from mypackage.module3 import *"
   ]
  },
  {
   "cell_type": "code",
   "execution_count": null,
   "id": "41bcc9bd-9ff4-4fab-8c4d-54f982180f46",
   "metadata": {},
   "outputs": [],
   "source": [
    "\n",
    "\n",
    "\n",
    "\n",
    "\n",
    "\n",
    "\n",
    "\n",
    "\n",
    "\n",
    "\n",
    "\n",
    "\n",
    "\n",
    "x = 222\n",
    "\n",
    "\n",
    "\n",
    "def fun1():\n",
    "    print(\"hi\")\n",
    "\n",
    "\n",
    "\n",
    "\n",
    "\n",
    "vv = 3\n",
    "\n"
   ]
  }
 ],
 "metadata": {
  "kernelspec": {
   "display_name": "Python 3 (ipykernel)",
   "language": "python",
   "name": "python3"
  },
  "language_info": {
   "codemirror_mode": {
    "name": "ipython",
    "version": 3
   },
   "file_extension": ".py",
   "mimetype": "text/x-python",
   "name": "python",
   "nbconvert_exporter": "python",
   "pygments_lexer": "ipython3",
   "version": "3.10.14"
  }
 },
 "nbformat": 4,
 "nbformat_minor": 5
}
