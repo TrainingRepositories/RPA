{
 "cells": [
  {
   "cell_type": "code",
   "execution_count": 1,
   "id": "652a0fd1-ea07-400d-9aa6-022b5d12dcb1",
   "metadata": {},
   "outputs": [],
   "source": [
    "%config Completer.use_jedi = False"
   ]
  },
  {
   "cell_type": "code",
   "execution_count": 15,
   "id": "41c587b2-97af-4242-adef-a41abbf73b23",
   "metadata": {},
   "outputs": [],
   "source": [
    "import sqlite3\n",
    "from fastapi import FastAPI, Request, HTTPException\n",
    "from fastapi.responses import JSONResponse\n",
    "import uvicorn\n",
    "from fastapi import FastAPI\n",
    "from threading import Thread\n",
    "from pydantic import BaseModel\n"
   ]
  },
  {
   "cell_type": "code",
   "execution_count": 16,
   "id": "adbfc36f-ff95-465d-9429-9f8f08096a25",
   "metadata": {},
   "outputs": [],
   "source": [
    "# conn = sqlite3.connect(\"test.db\")"
   ]
  },
  {
   "cell_type": "code",
   "execution_count": 17,
   "id": "88e2525b-cfe1-4c22-bd5e-5e1d989f43c1",
   "metadata": {},
   "outputs": [],
   "source": [
    "# sqlite3.connect(\"test.db\").cursor()"
   ]
  },
  {
   "cell_type": "code",
   "execution_count": 18,
   "id": "86241476-5949-46db-9462-001b81dce8ff",
   "metadata": {},
   "outputs": [],
   "source": [
    "# sqlite3.connect(\"test.db\").ipynb_checkpoints/"
   ]
  },
  {
   "cell_type": "code",
   "execution_count": 19,
   "id": "d35cbe6d-50a2-4ef4-9a2e-1175d6348a26",
   "metadata": {},
   "outputs": [],
   "source": [
    "\n",
    "# Define a Pydantic model for the data we expect in the request body\n",
    "class User(BaseModel):\n",
    "    name: str\n",
    "    email: str   # Optional field "
   ]
  },
  {
   "cell_type": "code",
   "execution_count": 20,
   "id": "785a332f-1bd4-4e87-b1a5-f6e047f266c7",
   "metadata": {},
   "outputs": [],
   "source": [
    "ss = User(name='ss2',email='sss2@dd.com')"
   ]
  },
  {
   "cell_type": "code",
   "execution_count": 21,
   "id": "15c50fc8-a144-40a7-88f8-80602a7123d8",
   "metadata": {},
   "outputs": [],
   "source": [
    "def InsertIntoTable(userObject:User) -> list[tuple]:\n",
    "    \"\"\"\n",
    "    this .... \n",
    "    \"\"\"\n",
    "    with sqlite3.connect('test.db') as conn2: \n",
    "        # Automatically commits the changes when the block ends\n",
    "        curr = conn2.cursor()\n",
    "        try:\n",
    "            # Create a table\n",
    "            result = curr.execute('''\n",
    "                INSERT INTO users (name, email) VALUES (?, ?)\n",
    "            ''', (userObject.name, userObject.email))\n",
    "        except NameError as e :\n",
    "            print(f\"Name Error Exception {e}\")\n",
    "        except Exception as e :\n",
    "            print(f\"Exception error {e}\")\n",
    "        else:\n",
    "            print(\"INSERT executed sucss\")\n",
    "        finally:\n",
    "            print(\"finally executed\")  \n",
    "    return GetTableInfo()\n",
    "    \n",
    "    "
   ]
  },
  {
   "cell_type": "code",
   "execution_count": 22,
   "id": "e2d684eb-d62f-4119-8666-2577943d5829",
   "metadata": {},
   "outputs": [],
   "source": [
    "def GetTableInfo() -> list[tuple]:\n",
    "    \"\"\"\n",
    "    return table results \n",
    "    \"\"\" \n",
    "    with sqlite3.connect(\"test.db\") as conn:\n",
    "        cur = conn.cursor()\n",
    "        try:\n",
    "            results = cur.execute(\"\"\"select * from users\"\"\")\n",
    "            return results.fetchall()\n",
    "        except Exception as e:\n",
    "            print(f\"Exception error {e}\")"
   ]
  },
  {
   "cell_type": "code",
   "execution_count": 24,
   "id": "614a9fe1-9a6f-4b3d-b8fc-96330ac3bf46",
   "metadata": {},
   "outputs": [],
   "source": [
    "# result2 = InsertIntoTable(name=\"Ahmad5\",email=\"test5@c.comm\")"
   ]
  },
  {
   "cell_type": "code",
   "execution_count": 25,
   "id": "3c93d94c-5f22-4236-af48-4984689218b8",
   "metadata": {},
   "outputs": [],
   "source": [
    "# result2"
   ]
  },
  {
   "cell_type": "code",
   "execution_count": 26,
   "id": "4b4d64d0-6a3c-4f56-a304-fe8592cdce98",
   "metadata": {},
   "outputs": [
    {
     "data": {
      "text/plain": [
       "[(1, 'John Doe', 'john@example.com'),\n",
       " (2, 'John 2', 'joh2@example.com'),\n",
       " (3, 'Ahmad', 'test@c.com'),\n",
       " (4, 'Ahmad2', 'test@c.comm'),\n",
       " (5, 'Ahmad3', 'test3@c.comm'),\n",
       " (6, 'Ahmad4', 'test4@c.comm'),\n",
       " (7, 'Ahmad5', 'test5@c.comm'),\n",
       " (8, 'ss', 'sss@dd.com'),\n",
       " (9, 'ss2', 'sss2@dd.com'),\n",
       " (10, 'dodd', '222@dd.com'),\n",
       " (11, '1223', '33@dd.sa')]"
      ]
     },
     "execution_count": 26,
     "metadata": {},
     "output_type": "execute_result"
    }
   ],
   "source": [
    "GetTableInfo()"
   ]
  },
  {
   "cell_type": "code",
   "execution_count": 27,
   "id": "1b7374fc-ee49-4fc6-976e-600a0953ec25",
   "metadata": {},
   "outputs": [],
   "source": [
    "\n",
    "\n",
    "# Create FastAPI app\n",
    "app = FastAPI()\n",
    "\n",
    "# Your route with the API key check\n",
    "@app.get(\"/\")\n",
    "async def read_root(request: Request):\n",
    "    # Retrieve the API key from headers\n",
    "    return \"test page\"\n",
    "    \n",
    "# Your route with the API key check\n",
    "@app.get(\"/testroot\")\n",
    "async def read_root(request: Request):\n",
    "    # Retrieve the API key from headers\n",
    "    api_key = request.headers.get(\"testKey\")\n",
    "    \n",
    "    # The correct API key (you can change this to a more secure value or environment variable)\n",
    "    expected_api_key = \"123\"\n",
    "    \n",
    "    # Check if the API key is valid\n",
    "    if api_key != expected_api_key:\n",
    "        raise HTTPException(status_code=401, detail=\"Unauthorized access - Invalid API Key\")\n",
    "    \n",
    "    # If valid, return the table info\n",
    "    return GetTableInfo()\n",
    "\n",
    "\n",
    "@app.post(\"/create_user/\")\n",
    "async def create_item(user: User):\n",
    "    return InsertIntoTable(userObject=user)"
   ]
  },
  {
   "cell_type": "code",
   "execution_count": 28,
   "id": "8c5a038a-2fc9-4889-8a1c-563aed2f5a62",
   "metadata": {
    "scrolled": true
   },
   "outputs": [
    {
     "name": "stderr",
     "output_type": "stream",
     "text": [
      "INFO:     Started server process [32139]\n",
      "INFO:     Waiting for application startup.\n",
      "INFO:     Application startup complete.\n",
      "INFO:     Uvicorn running on http://127.0.0.1:8000 (Press CTRL+C to quit)\n"
     ]
    },
    {
     "name": "stdout",
     "output_type": "stream",
     "text": [
      "INFO:     127.0.0.1:62385 - \"GET / HTTP/1.1\" 200 OK\n",
      "INFO:     127.0.0.1:62408 - \"GET /docs HTTP/1.1\" 200 OK\n",
      "INFO:     127.0.0.1:62408 - \"GET /openapi.json HTTP/1.1\" 200 OK\n",
      "INSERT executed sucss\n",
      "finally executed\n",
      "INFO:     127.0.0.1:62464 - \"POST /create_user/ HTTP/1.1\" 200 OK\n"
     ]
    }
   ],
   "source": [
    "\n",
    "# Define a function to run the Uvicorn server\n",
    "def run_uvicorn():\n",
    "    uvicorn.run(app, host=\"127.0.0.1\", port=8000)\n",
    "\n",
    "# Run Uvicorn in a separate thread\n",
    "server_thread = Thread(target=run_uvicorn)\n",
    "server_thread.start()\n"
   ]
  },
  {
   "cell_type": "code",
   "execution_count": null,
   "id": "bad1454f-1590-4f08-98d5-9a9de4084db6",
   "metadata": {},
   "outputs": [],
   "source": []
  }
 ],
 "metadata": {
  "kernelspec": {
   "display_name": "Python 3 (ipykernel)",
   "language": "python",
   "name": "python3"
  },
  "language_info": {
   "codemirror_mode": {
    "name": "ipython",
    "version": 3
   },
   "file_extension": ".py",
   "mimetype": "text/x-python",
   "name": "python",
   "nbconvert_exporter": "python",
   "pygments_lexer": "ipython3",
   "version": "3.10.14"
  }
 },
 "nbformat": 4,
 "nbformat_minor": 5
}
