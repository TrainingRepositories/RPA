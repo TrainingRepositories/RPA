{
 "cells": [
  {
   "cell_type": "code",
   "execution_count": 38,
   "id": "34ba3406-5857-49bd-8988-f792ba4accc2",
   "metadata": {},
   "outputs": [
    {
     "name": "stdout",
     "output_type": "stream",
     "text": [
      "The lenth of your name: Sarah is 5\n"
     ]
    }
   ],
   "source": [
    "#lenth\n",
    "name = 'Sarah'\n",
    "length = len (name)\n",
    "print(f\"The lenth of your name: {name} is {length}\")"
   ]
  },
  {
   "cell_type": "code",
   "execution_count": 40,
   "id": "b84c54ce-993b-434a-a7c0-39580cc12f7c",
   "metadata": {},
   "outputs": [
    {
     "data": {
      "text/plain": [
       "{'Norah': 75, 'lena': 20, 'Ahmed': 25, 'Mohammed': 50, 'Huda': 35, 'ahad': 45}"
      ]
     },
     "execution_count": 40,
     "metadata": {},
     "output_type": "execute_result"
    }
   ],
   "source": [
    "#Creat dict\n",
    "names_age= {'Norah':75, 'lena':20 ,'Ahmed':25,'Mohammed':50, 'Huda':35, 'ahad':45}\n",
    "names_age"
   ]
  },
  {
   "cell_type": "code",
   "execution_count": 11,
   "id": "a0266a29-bce2-4882-aca2-64bcc2e92563",
   "metadata": {},
   "outputs": [
    {
     "data": {
      "text/plain": [
       "'Norah'"
      ]
     },
     "execution_count": 11,
     "metadata": {},
     "output_type": "execute_result"
    }
   ],
   "source": [
    "max_name= max(names_age , key=names_age.get)\n",
    "max_name"
   ]
  },
  {
   "cell_type": "code",
   "execution_count": 13,
   "id": "286cd686-1e14-4b35-bb5b-61f56f8d882f",
   "metadata": {},
   "outputs": [
    {
     "data": {
      "text/plain": [
       "75"
      ]
     },
     "execution_count": 13,
     "metadata": {},
     "output_type": "execute_result"
    }
   ],
   "source": [
    "max_age = names_age[max_name]\n",
    "max_age"
   ]
  },
  {
   "cell_type": "code",
   "execution_count": 42,
   "id": "45eb465a-a031-4101-b9ba-381792c7198a",
   "metadata": {},
   "outputs": [
    {
     "data": {
      "text/plain": [
       "0"
      ]
     },
     "execution_count": 42,
     "metadata": {},
     "output_type": "execute_result"
    }
   ],
   "source": [
    "index = list(names_age.keys()).index(max_name)\n",
    "index"
   ]
  },
  {
   "cell_type": "code",
   "execution_count": 41,
   "id": "95848765-9f71-4a69-99ab-b60db693a662",
   "metadata": {},
   "outputs": [
    {
     "name": "stdout",
     "output_type": "stream",
     "text": [
      "The maximum age is 75 which is Norah at index: 0\n"
     ]
    }
   ],
   "source": [
    "#print max name with age and index\n",
    "print(f\"The maximum age is {max_age} which is {max_name} at index: {index}\")"
   ]
  },
  {
   "cell_type": "code",
   "execution_count": 33,
   "id": "a28c7877-ed9f-4ea9-a693-1e24ad2e3c11",
   "metadata": {},
   "outputs": [
    {
     "name": "stdout",
     "output_type": "stream",
     "text": [
      "The maximum age is 75 wich is Norah at index: 0\n"
     ]
    }
   ],
   "source": [
    "#easy way, use function ,maximum\n",
    "def find_max_age(names_age):\n",
    "    names_age= {'Norah':75, 'lena':20 ,'Ahmed':25,'Mohammed':50, 'Huda':35, 'ahad':45}\n",
    "    max_name= max(names_age , key=names_age.get)\n",
    "    max_age = names_age[max_name]\n",
    "    index = list(names_age.keys()).index(max_name)\n",
    "    print(f\"The maximum age is {max_age} wich is {max_name} at index: {index}\")\n",
    "find_max_age(names_age)"
   ]
  },
  {
   "cell_type": "code",
   "execution_count": 36,
   "id": "85c32fc9-d616-41db-8c41-71ddfd3c2e8e",
   "metadata": {},
   "outputs": [
    {
     "name": "stdout",
     "output_type": "stream",
     "text": [
      "The minimum age is 20 wich is lena at index: 1\n"
     ]
    }
   ],
   "source": [
    "#easy way, use function ,minimum\n",
    "def find_min_age(names_age):\n",
    "    names_age= {'Norah':75, 'lena':20 ,'Ahmed':25,'Mohammed':50, 'Huda':35, 'ahad':45}\n",
    "    min_name= min(names_age , key=names_age.get)\n",
    "    min_age = names_age[min_name]\n",
    "    index = list(names_age.keys()).index(min_name)\n",
    "    print(f\"The minimum age is {min_age} wich is {min_name} at index: {index}\")\n",
    "find_min_age(names_age)"
   ]
  },
  {
   "cell_type": "code",
   "execution_count": 44,
   "id": "5a838228-0838-481a-a73a-2f6589c523fa",
   "metadata": {},
   "outputs": [
    {
     "name": "stdout",
     "output_type": "stream",
     "text": [
      "The dict after sorted :[('lena', 20), ('Ahmed', 25), ('Huda', 35), ('ahad', 45), ('Mohammed', 50), ('Norah', 75)]\n"
     ]
    }
   ],
   "source": [
    "#sorted and and print as a tuple inside list \n",
    "sorted_names_age= (sorted(names_age.items(),key=lambda item:item[1]))\n",
    "print(f\"The dict after sorted :{sorted_names_age}\")"
   ]
  },
  {
   "cell_type": "code",
   "execution_count": 48,
   "id": "00eb43c2-7372-4614-b257-ab54aa09c941",
   "metadata": {},
   "outputs": [
    {
     "name": "stdout",
     "output_type": "stream",
     "text": [
      "The age after sorted and return it as dict :{'lena': 20, 'Ahmed': 25, 'Huda': 35, 'ahad': 45, 'Mohammed': 50, 'Norah': 75}\n"
     ]
    }
   ],
   "source": [
    "#if i want to return it as  a dict \n",
    "sorted_names_age= dict(sorted(names_age.items(),key=lambda item:item[1]))\n",
    "print(f\"The age after sorted and return it as dict :{sorted_names_age}\")"
   ]
  },
  {
   "cell_type": "code",
   "execution_count": 28,
   "id": "703fedd1-cc8a-4102-8279-ae000108f883",
   "metadata": {},
   "outputs": [
    {
     "name": "stdout",
     "output_type": "stream",
     "text": [
      "lena: 20\n",
      "Ahmed: 25\n",
      "Huda: 35\n",
      "ahad: 45\n",
      "Mohammed: 50\n",
      "Norah: 75\n"
     ]
    }
   ],
   "source": [
    "#print it as text ,using for \n",
    "for name, age in sorted_names_age.items():\n",
    "    print(f\"{name}: {age}\")"
   ]
  },
  {
   "cell_type": "code",
   "execution_count": null,
   "id": "5120308f-6784-4de8-ba25-39f7435dad5d",
   "metadata": {},
   "outputs": [],
   "source": []
  }
 ],
 "metadata": {
  "kernelspec": {
   "display_name": "Python 3 (ipykernel)",
   "language": "python",
   "name": "python3"
  },
  "language_info": {
   "codemirror_mode": {
    "name": "ipython",
    "version": 3
   },
   "file_extension": ".py",
   "mimetype": "text/x-python",
   "name": "python",
   "nbconvert_exporter": "python",
   "pygments_lexer": "ipython3",
   "version": "3.10.0"
  }
 },
 "nbformat": 4,
 "nbformat_minor": 5
}
