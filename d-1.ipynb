{
 "cells": [
  {
   "cell_type": "code",
   "execution_count": 6,
   "id": "9db1c1af-454a-4793-8b84-5321310d2857",
   "metadata": {},
   "outputs": [
    {
     "name": "stdout",
     "output_type": "stream",
     "text": [
      "0\n",
      "1\n",
      "2\n",
      "3\n",
      "4\n",
      "5\n",
      "6\n",
      "7\n",
      "8\n",
      "9\n",
      "10\n",
      "11\n",
      "12\n",
      "13\n",
      "14\n",
      "15\n",
      "16\n",
      "17\n",
      "18\n",
      "19\n",
      "20\n",
      "21\n",
      "22\n",
      "23\n",
      "24\n",
      "25\n",
      "26\n",
      "27\n",
      "28\n",
      "29\n",
      "30\n",
      "31\n",
      "32\n",
      "33\n",
      "34\n",
      "35\n",
      "36\n",
      "37\n",
      "38\n",
      "39\n",
      "40\n",
      "41\n",
      "42\n",
      "43\n",
      "44\n",
      "45\n",
      "46\n",
      "47\n",
      "48\n",
      "49\n",
      "50\n",
      "51\n",
      "52\n",
      "53\n",
      "54\n"
     ]
    }
   ],
   "source": [
    "for i in range(55):\n",
    "    print(i) "
   ]
  },
  {
   "cell_type": "code",
   "execution_count": 7,
   "id": "64283336-d255-41c9-baa8-cad4f1a12847",
   "metadata": {},
   "outputs": [
    {
     "name": "stdout",
     "output_type": "stream",
     "text": [
      "يمكنك الاسترخاء اليوم!\n",
      "هل لديك وقت فراغ؟ True\n"
     ]
    }
   ],
   "source": [
    "is_weekend = True\n",
    "has_homework = False\n",
    "if is_weekend and not has_homework:\n",
    "    print(\"يمكنك الاسترخاء اليوم!\")\n",
    "else:\n",
    "    print(\"يبدو أنك بحاجة للعمل!\")\n",
    "\n",
    "is_free_time = is_weekend and not has_homework\n",
    "print(f\"هل لديك وقت فراغ؟ {is_free_time}\")\n"
   ]
  },
  {
   "cell_type": "code",
   "execution_count": 8,
   "id": "599b0fba-2703-432f-b22f-fda7defb3183",
   "metadata": {},
   "outputs": [
    {
     "name": "stdout",
     "output_type": "stream",
     "text": [
      "اسم الشخص: علي\n",
      "عمر الشخص: 30 سنة\n",
      "مدينة الإقامة: الرياض\n",
      "هل هو طالب؟ False\n",
      "معلومات الشخص بعد الإضافة: {'name': 'علي', 'age': 30, 'city': 'الرياض', 'is_student': False, 'favorite_color': 'أزرق'}\n",
      "معلومات الشخص بعد التحديث: {'name': 'علي', 'age': 31, 'city': 'الرياض', 'is_student': False, 'favorite_color': 'أزرق'}\n"
     ]
    }
   ],
   "source": [
    "person = {\n",
    "    \"name\": \"علي\",\n",
    "    \"age\": 30,\n",
    "    \"city\": \"الرياض\",\n",
    "    \"is_student\": False\n",
    "}\n",
    "print(f\"اسم الشخص: {person['name']}\")\n",
    "print(f\"عمر الشخص: {person['age']} سنة\")\n",
    "print(f\"مدينة الإقامة: {person['city']}\")\n",
    "print(f\"هل هو طالب؟ {person['is_student']}\")\n",
    "\n",
    "person[\"favorite_color\"] = \"أزرق\"\n",
    "\n",
    "print(\"معلومات الشخص بعد الإضافة:\", person)\n",
    "\n",
    "person[\"age\"] = 31\n",
    "\n",
    "print(\"معلومات الشخص بعد التحديث:\", person)\n"
   ]
  },
  {
   "cell_type": "code",
   "execution_count": 9,
   "id": "f1ad4b93-43a1-442f-910e-c30d808e2d3b",
   "metadata": {},
   "outputs": [
    {
     "name": "stdout",
     "output_type": "stream",
     "text": [
      "الموظفون المتاحون: {'فاطمة', 'أحمد', 'علي', 'سالم'}\n",
      "بعد إضافة منى: {'فاطمة', 'سالم', 'أحمد', 'منى', 'علي'}\n",
      "بعد محاولة إضافة أحمد مرة أخرى: {'فاطمة', 'سالم', 'أحمد', 'منى', 'علي'}\n",
      "بعد حذف سالم: {'فاطمة', 'أحمد', 'منى', 'علي'}\n",
      "هل فاطمة موجودة؟ True\n",
      "عدد الموظفين في المجموعة: 4\n"
     ]
    }
   ],
   "source": [
    "employees = {\"أحمد\", \"فاطمة\", \"سالم\", \"علي\"}\n",
    "print(\"الموظفون المتاحون:\", employees)\n",
    "employees.add(\"منى\")\n",
    "print(\"بعد إضافة منى:\", employees)\n",
    "employees.add(\"أحمد\")\n",
    "print(\"بعد محاولة إضافة أحمد مرة أخرى:\", employees)\n",
    "employees.remove(\"سالم\")\n",
    "print(\"بعد حذف سالم:\", employees)\n",
    "is_fatima_present = \"فاطمة\" in employees\n",
    "print(f\"هل فاطمة موجودة؟ {is_fatima_present}\")\n",
    "number_of_employees = len(employees)\n",
    "print(f\"عدد الموظفين في المجموعة: {number_of_employees}\")\n"
   ]
  },
  {
   "cell_type": "code",
   "execution_count": 11,
   "id": "c9cfd615-fa68-4c8d-9848-343f722b0620",
   "metadata": {},
   "outputs": [
    {
     "name": "stdout",
     "output_type": "stream",
     "text": [
      "اسم الموظف: أحمد\n",
      "اسم الموظف: فاطمة\n",
      "اسم الموظف: سالم\n",
      "اسم الموظف: علي\n",
      "اسم الموظف: منى\n"
     ]
    }
   ],
   "source": [
    "employee_list = [\"أحمد\", \"فاطمة\", \"سالم\", \"علي\", \"منى\"]\n",
    "for employee in employee_list:\n",
    "    print(f\"اسم الموظف: {employee}\")\n"
   ]
  },
  {
   "cell_type": "code",
   "execution_count": 16,
   "id": "17c81f38-ddf3-4812-accd-381f85a1ed38",
   "metadata": {},
   "outputs": [
    {
     "data": {
      "text/plain": [
       "[2, 4, 6, 8, 10]"
      ]
     },
     "execution_count": 16,
     "metadata": {},
     "output_type": "execute_result"
    }
   ],
   "source": [
    "even_numbers = [num for num in range(1, 11) if num % 2 == 0]\n",
    "even_numbers\n"
   ]
  },
  {
   "cell_type": "code",
   "execution_count": 17,
   "id": "035f0ee3-dfcd-4c90-971a-b490ded3c92b",
   "metadata": {},
   "outputs": [
    {
     "name": "stdout",
     "output_type": "stream",
     "text": [
      "25\n"
     ]
    }
   ],
   "source": [
    "square = lambda x: x ** 2\n",
    "result = square(5)\n",
    "print(result) \n"
   ]
  },
  {
   "cell_type": "code",
   "execution_count": null,
   "id": "efc31637-57c2-49d0-be72-9ed822883be7",
   "metadata": {},
   "outputs": [],
   "source": []
  }
 ],
 "metadata": {
  "kernelspec": {
   "display_name": "Python 3 (ipykernel)",
   "language": "python",
   "name": "python3"
  },
  "language_info": {
   "codemirror_mode": {
    "name": "ipython",
    "version": 3
   },
   "file_extension": ".py",
   "mimetype": "text/x-python",
   "name": "python",
   "nbconvert_exporter": "python",
   "pygments_lexer": "ipython3",
   "version": "3.12.2"
  }
 },
 "nbformat": 4,
 "nbformat_minor": 5
}
